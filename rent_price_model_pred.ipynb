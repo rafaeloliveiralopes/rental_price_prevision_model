{
 "cells": [
  {
   "cell_type": "markdown",
   "id": "77e75309-256c-4b0a-b412-5b1163c0e414",
   "metadata": {},
   "source": [
    "# **Rent Price Prediction Model**"
   ]
  },
  {
   "cell_type": "code",
   "execution_count": 1,
   "id": "4eaf9d0d-2595-4dbe-865b-fd88b4f53285",
   "metadata": {},
   "outputs": [],
   "source": [
    "import pandas as pd\n",
    "import matplotlib.pyplot as plt\n",
    "import seaborn as sns\n",
    "import numpy as np\n",
    "from sklearn.linear_model import LinearRegression\n",
    "from sklearn.preprocessing import StandardScaler\n",
    "from sklearn.model_selection import train_test_split\n",
    "from sklearn.metrics import mean_absolute_error\n",
    "from sklearn.metrics import r2_score\n",
    "from sklearn.ensemble import RandomForestRegressor"
   ]
  },
  {
   "cell_type": "markdown",
   "id": "00feb109-ecca-4651-b3f7-5be4229dffc6",
   "metadata": {},
   "source": [
    "## Análise Exploratória"
   ]
  },
  {
   "cell_type": "code",
   "execution_count": 2,
   "id": "84d2f76b-8f62-4d6f-93a9-67354b72dc91",
   "metadata": {},
   "outputs": [],
   "source": [
    "raw_data = pd.read_csv(\"teste_indicium_precificacao.csv\")"
   ]
  },
  {
   "cell_type": "code",
   "execution_count": 3,
   "id": "7b560219-6243-4393-9bc5-4c245cc17d53",
   "metadata": {},
   "outputs": [
    {
     "data": {
      "text/plain": [
       "(48894, 16)"
      ]
     },
     "execution_count": 3,
     "metadata": {},
     "output_type": "execute_result"
    }
   ],
   "source": [
    "raw_data.shape"
   ]
  },
  {
   "cell_type": "code",
   "execution_count": 4,
   "id": "9b87fc47-0bf7-47bd-a805-cdeb2174812f",
   "metadata": {},
   "outputs": [
    {
     "data": {
      "text/html": [
       "<div>\n",
       "<style scoped>\n",
       "    .dataframe tbody tr th:only-of-type {\n",
       "        vertical-align: middle;\n",
       "    }\n",
       "\n",
       "    .dataframe tbody tr th {\n",
       "        vertical-align: top;\n",
       "    }\n",
       "\n",
       "    .dataframe thead th {\n",
       "        text-align: right;\n",
       "    }\n",
       "</style>\n",
       "<table border=\"1\" class=\"dataframe\">\n",
       "  <thead>\n",
       "    <tr style=\"text-align: right;\">\n",
       "      <th></th>\n",
       "      <th>id</th>\n",
       "      <th>nome</th>\n",
       "      <th>host_id</th>\n",
       "      <th>host_name</th>\n",
       "      <th>bairro_group</th>\n",
       "      <th>bairro</th>\n",
       "      <th>latitude</th>\n",
       "      <th>longitude</th>\n",
       "      <th>room_type</th>\n",
       "      <th>price</th>\n",
       "      <th>minimo_noites</th>\n",
       "      <th>numero_de_reviews</th>\n",
       "      <th>ultima_review</th>\n",
       "      <th>reviews_por_mes</th>\n",
       "      <th>calculado_host_listings_count</th>\n",
       "      <th>disponibilidade_365</th>\n",
       "    </tr>\n",
       "  </thead>\n",
       "  <tbody>\n",
       "    <tr>\n",
       "      <th>0</th>\n",
       "      <td>2595</td>\n",
       "      <td>Skylit Midtown Castle</td>\n",
       "      <td>2845</td>\n",
       "      <td>Jennifer</td>\n",
       "      <td>Manhattan</td>\n",
       "      <td>Midtown</td>\n",
       "      <td>40.75362</td>\n",
       "      <td>-73.98377</td>\n",
       "      <td>Entire home/apt</td>\n",
       "      <td>225</td>\n",
       "      <td>1</td>\n",
       "      <td>45</td>\n",
       "      <td>2019-05-21</td>\n",
       "      <td>0.38</td>\n",
       "      <td>2</td>\n",
       "      <td>355</td>\n",
       "    </tr>\n",
       "    <tr>\n",
       "      <th>1</th>\n",
       "      <td>3647</td>\n",
       "      <td>THE VILLAGE OF HARLEM....NEW YORK !</td>\n",
       "      <td>4632</td>\n",
       "      <td>Elisabeth</td>\n",
       "      <td>Manhattan</td>\n",
       "      <td>Harlem</td>\n",
       "      <td>40.80902</td>\n",
       "      <td>-73.94190</td>\n",
       "      <td>Private room</td>\n",
       "      <td>150</td>\n",
       "      <td>3</td>\n",
       "      <td>0</td>\n",
       "      <td>NaN</td>\n",
       "      <td>NaN</td>\n",
       "      <td>1</td>\n",
       "      <td>365</td>\n",
       "    </tr>\n",
       "    <tr>\n",
       "      <th>2</th>\n",
       "      <td>3831</td>\n",
       "      <td>Cozy Entire Floor of Brownstone</td>\n",
       "      <td>4869</td>\n",
       "      <td>LisaRoxanne</td>\n",
       "      <td>Brooklyn</td>\n",
       "      <td>Clinton Hill</td>\n",
       "      <td>40.68514</td>\n",
       "      <td>-73.95976</td>\n",
       "      <td>Entire home/apt</td>\n",
       "      <td>89</td>\n",
       "      <td>1</td>\n",
       "      <td>270</td>\n",
       "      <td>2019-07-05</td>\n",
       "      <td>4.64</td>\n",
       "      <td>1</td>\n",
       "      <td>194</td>\n",
       "    </tr>\n",
       "    <tr>\n",
       "      <th>3</th>\n",
       "      <td>5022</td>\n",
       "      <td>Entire Apt: Spacious Studio/Loft by central park</td>\n",
       "      <td>7192</td>\n",
       "      <td>Laura</td>\n",
       "      <td>Manhattan</td>\n",
       "      <td>East Harlem</td>\n",
       "      <td>40.79851</td>\n",
       "      <td>-73.94399</td>\n",
       "      <td>Entire home/apt</td>\n",
       "      <td>80</td>\n",
       "      <td>10</td>\n",
       "      <td>9</td>\n",
       "      <td>2018-11-19</td>\n",
       "      <td>0.10</td>\n",
       "      <td>1</td>\n",
       "      <td>0</td>\n",
       "    </tr>\n",
       "    <tr>\n",
       "      <th>4</th>\n",
       "      <td>5099</td>\n",
       "      <td>Large Cozy 1 BR Apartment In Midtown East</td>\n",
       "      <td>7322</td>\n",
       "      <td>Chris</td>\n",
       "      <td>Manhattan</td>\n",
       "      <td>Murray Hill</td>\n",
       "      <td>40.74767</td>\n",
       "      <td>-73.97500</td>\n",
       "      <td>Entire home/apt</td>\n",
       "      <td>200</td>\n",
       "      <td>3</td>\n",
       "      <td>74</td>\n",
       "      <td>2019-06-22</td>\n",
       "      <td>0.59</td>\n",
       "      <td>1</td>\n",
       "      <td>129</td>\n",
       "    </tr>\n",
       "    <tr>\n",
       "      <th>5</th>\n",
       "      <td>5121</td>\n",
       "      <td>BlissArtsSpace!</td>\n",
       "      <td>7356</td>\n",
       "      <td>Garon</td>\n",
       "      <td>Brooklyn</td>\n",
       "      <td>Bedford-Stuyvesant</td>\n",
       "      <td>40.68688</td>\n",
       "      <td>-73.95596</td>\n",
       "      <td>Private room</td>\n",
       "      <td>60</td>\n",
       "      <td>45</td>\n",
       "      <td>49</td>\n",
       "      <td>2017-10-05</td>\n",
       "      <td>0.40</td>\n",
       "      <td>1</td>\n",
       "      <td>0</td>\n",
       "    </tr>\n",
       "    <tr>\n",
       "      <th>6</th>\n",
       "      <td>5178</td>\n",
       "      <td>Large Furnished Room Near B'way</td>\n",
       "      <td>8967</td>\n",
       "      <td>Shunichi</td>\n",
       "      <td>Manhattan</td>\n",
       "      <td>Hell's Kitchen</td>\n",
       "      <td>40.76489</td>\n",
       "      <td>-73.98493</td>\n",
       "      <td>Private room</td>\n",
       "      <td>79</td>\n",
       "      <td>2</td>\n",
       "      <td>430</td>\n",
       "      <td>2019-06-24</td>\n",
       "      <td>3.47</td>\n",
       "      <td>1</td>\n",
       "      <td>220</td>\n",
       "    </tr>\n",
       "    <tr>\n",
       "      <th>7</th>\n",
       "      <td>5203</td>\n",
       "      <td>Cozy Clean Guest Room - Family Apt</td>\n",
       "      <td>7490</td>\n",
       "      <td>MaryEllen</td>\n",
       "      <td>Manhattan</td>\n",
       "      <td>Upper West Side</td>\n",
       "      <td>40.80178</td>\n",
       "      <td>-73.96723</td>\n",
       "      <td>Private room</td>\n",
       "      <td>79</td>\n",
       "      <td>2</td>\n",
       "      <td>118</td>\n",
       "      <td>2017-07-21</td>\n",
       "      <td>0.99</td>\n",
       "      <td>1</td>\n",
       "      <td>0</td>\n",
       "    </tr>\n",
       "    <tr>\n",
       "      <th>8</th>\n",
       "      <td>5238</td>\n",
       "      <td>Cute &amp; Cozy Lower East Side 1 bdrm</td>\n",
       "      <td>7549</td>\n",
       "      <td>Ben</td>\n",
       "      <td>Manhattan</td>\n",
       "      <td>Chinatown</td>\n",
       "      <td>40.71344</td>\n",
       "      <td>-73.99037</td>\n",
       "      <td>Entire home/apt</td>\n",
       "      <td>150</td>\n",
       "      <td>1</td>\n",
       "      <td>160</td>\n",
       "      <td>2019-06-09</td>\n",
       "      <td>1.33</td>\n",
       "      <td>4</td>\n",
       "      <td>188</td>\n",
       "    </tr>\n",
       "    <tr>\n",
       "      <th>9</th>\n",
       "      <td>5295</td>\n",
       "      <td>Beautiful 1br on Upper West Side</td>\n",
       "      <td>7702</td>\n",
       "      <td>Lena</td>\n",
       "      <td>Manhattan</td>\n",
       "      <td>Upper West Side</td>\n",
       "      <td>40.80316</td>\n",
       "      <td>-73.96545</td>\n",
       "      <td>Entire home/apt</td>\n",
       "      <td>135</td>\n",
       "      <td>5</td>\n",
       "      <td>53</td>\n",
       "      <td>2019-06-22</td>\n",
       "      <td>0.43</td>\n",
       "      <td>1</td>\n",
       "      <td>6</td>\n",
       "    </tr>\n",
       "  </tbody>\n",
       "</table>\n",
       "</div>"
      ],
      "text/plain": [
       "     id                                              nome  host_id  \\\n",
       "0  2595                             Skylit Midtown Castle     2845   \n",
       "1  3647               THE VILLAGE OF HARLEM....NEW YORK !     4632   \n",
       "2  3831                   Cozy Entire Floor of Brownstone     4869   \n",
       "3  5022  Entire Apt: Spacious Studio/Loft by central park     7192   \n",
       "4  5099         Large Cozy 1 BR Apartment In Midtown East     7322   \n",
       "5  5121                                   BlissArtsSpace!     7356   \n",
       "6  5178                  Large Furnished Room Near B'way      8967   \n",
       "7  5203                Cozy Clean Guest Room - Family Apt     7490   \n",
       "8  5238                Cute & Cozy Lower East Side 1 bdrm     7549   \n",
       "9  5295                  Beautiful 1br on Upper West Side     7702   \n",
       "\n",
       "     host_name bairro_group              bairro  latitude  longitude  \\\n",
       "0     Jennifer    Manhattan             Midtown  40.75362  -73.98377   \n",
       "1    Elisabeth    Manhattan              Harlem  40.80902  -73.94190   \n",
       "2  LisaRoxanne     Brooklyn        Clinton Hill  40.68514  -73.95976   \n",
       "3        Laura    Manhattan         East Harlem  40.79851  -73.94399   \n",
       "4        Chris    Manhattan         Murray Hill  40.74767  -73.97500   \n",
       "5        Garon     Brooklyn  Bedford-Stuyvesant  40.68688  -73.95596   \n",
       "6     Shunichi    Manhattan      Hell's Kitchen  40.76489  -73.98493   \n",
       "7    MaryEllen    Manhattan     Upper West Side  40.80178  -73.96723   \n",
       "8          Ben    Manhattan           Chinatown  40.71344  -73.99037   \n",
       "9         Lena    Manhattan     Upper West Side  40.80316  -73.96545   \n",
       "\n",
       "         room_type  price  minimo_noites  numero_de_reviews ultima_review  \\\n",
       "0  Entire home/apt    225              1                 45    2019-05-21   \n",
       "1     Private room    150              3                  0           NaN   \n",
       "2  Entire home/apt     89              1                270    2019-07-05   \n",
       "3  Entire home/apt     80             10                  9    2018-11-19   \n",
       "4  Entire home/apt    200              3                 74    2019-06-22   \n",
       "5     Private room     60             45                 49    2017-10-05   \n",
       "6     Private room     79              2                430    2019-06-24   \n",
       "7     Private room     79              2                118    2017-07-21   \n",
       "8  Entire home/apt    150              1                160    2019-06-09   \n",
       "9  Entire home/apt    135              5                 53    2019-06-22   \n",
       "\n",
       "   reviews_por_mes  calculado_host_listings_count  disponibilidade_365  \n",
       "0             0.38                              2                  355  \n",
       "1              NaN                              1                  365  \n",
       "2             4.64                              1                  194  \n",
       "3             0.10                              1                    0  \n",
       "4             0.59                              1                  129  \n",
       "5             0.40                              1                    0  \n",
       "6             3.47                              1                  220  \n",
       "7             0.99                              1                    0  \n",
       "8             1.33                              4                  188  \n",
       "9             0.43                              1                    6  "
      ]
     },
     "execution_count": 4,
     "metadata": {},
     "output_type": "execute_result"
    }
   ],
   "source": [
    "raw_data.head(10)"
   ]
  },
  {
   "cell_type": "code",
   "execution_count": 5,
   "id": "2ee10a5c-d806-414c-8ad4-a0221fd160e5",
   "metadata": {},
   "outputs": [
    {
     "data": {
      "text/html": [
       "<div>\n",
       "<style scoped>\n",
       "    .dataframe tbody tr th:only-of-type {\n",
       "        vertical-align: middle;\n",
       "    }\n",
       "\n",
       "    .dataframe tbody tr th {\n",
       "        vertical-align: top;\n",
       "    }\n",
       "\n",
       "    .dataframe thead th {\n",
       "        text-align: right;\n",
       "    }\n",
       "</style>\n",
       "<table border=\"1\" class=\"dataframe\">\n",
       "  <thead>\n",
       "    <tr style=\"text-align: right;\">\n",
       "      <th></th>\n",
       "      <th>id</th>\n",
       "      <th>nome</th>\n",
       "      <th>host_id</th>\n",
       "      <th>host_name</th>\n",
       "      <th>bairro_group</th>\n",
       "      <th>bairro</th>\n",
       "      <th>latitude</th>\n",
       "      <th>longitude</th>\n",
       "      <th>room_type</th>\n",
       "      <th>price</th>\n",
       "      <th>minimo_noites</th>\n",
       "      <th>numero_de_reviews</th>\n",
       "      <th>ultima_review</th>\n",
       "      <th>reviews_por_mes</th>\n",
       "      <th>calculado_host_listings_count</th>\n",
       "      <th>disponibilidade_365</th>\n",
       "    </tr>\n",
       "  </thead>\n",
       "  <tbody>\n",
       "    <tr>\n",
       "      <th>48889</th>\n",
       "      <td>36484665</td>\n",
       "      <td>Charming one bedroom - newly renovated rowhouse</td>\n",
       "      <td>8232441</td>\n",
       "      <td>Sabrina</td>\n",
       "      <td>Brooklyn</td>\n",
       "      <td>Bedford-Stuyvesant</td>\n",
       "      <td>40.67853</td>\n",
       "      <td>-73.94995</td>\n",
       "      <td>Private room</td>\n",
       "      <td>70</td>\n",
       "      <td>2</td>\n",
       "      <td>0</td>\n",
       "      <td>NaN</td>\n",
       "      <td>NaN</td>\n",
       "      <td>2</td>\n",
       "      <td>9</td>\n",
       "    </tr>\n",
       "    <tr>\n",
       "      <th>48890</th>\n",
       "      <td>36485057</td>\n",
       "      <td>Affordable room in Bushwick/East Williamsburg</td>\n",
       "      <td>6570630</td>\n",
       "      <td>Marisol</td>\n",
       "      <td>Brooklyn</td>\n",
       "      <td>Bushwick</td>\n",
       "      <td>40.70184</td>\n",
       "      <td>-73.93317</td>\n",
       "      <td>Private room</td>\n",
       "      <td>40</td>\n",
       "      <td>4</td>\n",
       "      <td>0</td>\n",
       "      <td>NaN</td>\n",
       "      <td>NaN</td>\n",
       "      <td>2</td>\n",
       "      <td>36</td>\n",
       "    </tr>\n",
       "    <tr>\n",
       "      <th>48891</th>\n",
       "      <td>36485431</td>\n",
       "      <td>Sunny Studio at Historical Neighborhood</td>\n",
       "      <td>23492952</td>\n",
       "      <td>Ilgar &amp; Aysel</td>\n",
       "      <td>Manhattan</td>\n",
       "      <td>Harlem</td>\n",
       "      <td>40.81475</td>\n",
       "      <td>-73.94867</td>\n",
       "      <td>Entire home/apt</td>\n",
       "      <td>115</td>\n",
       "      <td>10</td>\n",
       "      <td>0</td>\n",
       "      <td>NaN</td>\n",
       "      <td>NaN</td>\n",
       "      <td>1</td>\n",
       "      <td>27</td>\n",
       "    </tr>\n",
       "    <tr>\n",
       "      <th>48892</th>\n",
       "      <td>36485609</td>\n",
       "      <td>43rd St. Time Square-cozy single bed</td>\n",
       "      <td>30985759</td>\n",
       "      <td>Taz</td>\n",
       "      <td>Manhattan</td>\n",
       "      <td>Hell's Kitchen</td>\n",
       "      <td>40.75751</td>\n",
       "      <td>-73.99112</td>\n",
       "      <td>Shared room</td>\n",
       "      <td>55</td>\n",
       "      <td>1</td>\n",
       "      <td>0</td>\n",
       "      <td>NaN</td>\n",
       "      <td>NaN</td>\n",
       "      <td>6</td>\n",
       "      <td>2</td>\n",
       "    </tr>\n",
       "    <tr>\n",
       "      <th>48893</th>\n",
       "      <td>36487245</td>\n",
       "      <td>Trendy duplex in the very heart of Hell's Kitchen</td>\n",
       "      <td>68119814</td>\n",
       "      <td>Christophe</td>\n",
       "      <td>Manhattan</td>\n",
       "      <td>Hell's Kitchen</td>\n",
       "      <td>40.76404</td>\n",
       "      <td>-73.98933</td>\n",
       "      <td>Private room</td>\n",
       "      <td>90</td>\n",
       "      <td>7</td>\n",
       "      <td>0</td>\n",
       "      <td>NaN</td>\n",
       "      <td>NaN</td>\n",
       "      <td>1</td>\n",
       "      <td>23</td>\n",
       "    </tr>\n",
       "  </tbody>\n",
       "</table>\n",
       "</div>"
      ],
      "text/plain": [
       "             id                                               nome   host_id  \\\n",
       "48889  36484665    Charming one bedroom - newly renovated rowhouse   8232441   \n",
       "48890  36485057      Affordable room in Bushwick/East Williamsburg   6570630   \n",
       "48891  36485431            Sunny Studio at Historical Neighborhood  23492952   \n",
       "48892  36485609               43rd St. Time Square-cozy single bed  30985759   \n",
       "48893  36487245  Trendy duplex in the very heart of Hell's Kitchen  68119814   \n",
       "\n",
       "           host_name bairro_group              bairro  latitude  longitude  \\\n",
       "48889        Sabrina     Brooklyn  Bedford-Stuyvesant  40.67853  -73.94995   \n",
       "48890        Marisol     Brooklyn            Bushwick  40.70184  -73.93317   \n",
       "48891  Ilgar & Aysel    Manhattan              Harlem  40.81475  -73.94867   \n",
       "48892            Taz    Manhattan      Hell's Kitchen  40.75751  -73.99112   \n",
       "48893     Christophe    Manhattan      Hell's Kitchen  40.76404  -73.98933   \n",
       "\n",
       "             room_type  price  minimo_noites  numero_de_reviews ultima_review  \\\n",
       "48889     Private room     70              2                  0           NaN   \n",
       "48890     Private room     40              4                  0           NaN   \n",
       "48891  Entire home/apt    115             10                  0           NaN   \n",
       "48892      Shared room     55              1                  0           NaN   \n",
       "48893     Private room     90              7                  0           NaN   \n",
       "\n",
       "       reviews_por_mes  calculado_host_listings_count  disponibilidade_365  \n",
       "48889              NaN                              2                    9  \n",
       "48890              NaN                              2                   36  \n",
       "48891              NaN                              1                   27  \n",
       "48892              NaN                              6                    2  \n",
       "48893              NaN                              1                   23  "
      ]
     },
     "execution_count": 5,
     "metadata": {},
     "output_type": "execute_result"
    }
   ],
   "source": [
    "raw_data.tail()"
   ]
  },
  {
   "cell_type": "markdown",
   "id": "bb8e90e6-38a8-49ff-8f7b-6696a5eaec78",
   "metadata": {},
   "source": [
    "## Verificação dos tipos de dados"
   ]
  },
  {
   "cell_type": "code",
   "execution_count": 6,
   "id": "b8702f38-a52b-4717-9e98-7a1ec3578822",
   "metadata": {},
   "outputs": [
    {
     "name": "stdout",
     "output_type": "stream",
     "text": [
      "<class 'pandas.core.frame.DataFrame'>\n",
      "RangeIndex: 48894 entries, 0 to 48893\n",
      "Data columns (total 16 columns):\n",
      " #   Column                         Non-Null Count  Dtype  \n",
      "---  ------                         --------------  -----  \n",
      " 0   id                             48894 non-null  int64  \n",
      " 1   nome                           48878 non-null  object \n",
      " 2   host_id                        48894 non-null  int64  \n",
      " 3   host_name                      48873 non-null  object \n",
      " 4   bairro_group                   48894 non-null  object \n",
      " 5   bairro                         48894 non-null  object \n",
      " 6   latitude                       48894 non-null  float64\n",
      " 7   longitude                      48894 non-null  float64\n",
      " 8   room_type                      48894 non-null  object \n",
      " 9   price                          48894 non-null  int64  \n",
      " 10  minimo_noites                  48894 non-null  int64  \n",
      " 11  numero_de_reviews              48894 non-null  int64  \n",
      " 12  ultima_review                  38842 non-null  object \n",
      " 13  reviews_por_mes                38842 non-null  float64\n",
      " 14  calculado_host_listings_count  48894 non-null  int64  \n",
      " 15  disponibilidade_365            48894 non-null  int64  \n",
      "dtypes: float64(3), int64(7), object(6)\n",
      "memory usage: 6.0+ MB\n"
     ]
    }
   ],
   "source": [
    "raw_data.info()"
   ]
  },
  {
   "cell_type": "markdown",
   "id": "5125347c-afaa-4c73-914d-c3161811cfa5",
   "metadata": {},
   "source": [
    "## Verificação dos valores nulos"
   ]
  },
  {
   "cell_type": "code",
   "execution_count": 7,
   "id": "2eeee625-ce5f-4c22-a078-5ba11ff4da35",
   "metadata": {},
   "outputs": [
    {
     "data": {
      "text/plain": [
       "ultima_review                    10052\n",
       "reviews_por_mes                  10052\n",
       "host_name                           21\n",
       "nome                                16\n",
       "id                                   0\n",
       "host_id                              0\n",
       "bairro_group                         0\n",
       "bairro                               0\n",
       "latitude                             0\n",
       "longitude                            0\n",
       "room_type                            0\n",
       "price                                0\n",
       "minimo_noites                        0\n",
       "numero_de_reviews                    0\n",
       "calculado_host_listings_count        0\n",
       "disponibilidade_365                  0\n",
       "dtype: int64"
      ]
     },
     "execution_count": 7,
     "metadata": {},
     "output_type": "execute_result"
    }
   ],
   "source": [
    "raw_data.isnull().sum().sort_values(ascending=False)"
   ]
  },
  {
   "cell_type": "code",
   "execution_count": 8,
   "id": "bcea1835-572b-400d-843f-325c4fec1a97",
   "metadata": {},
   "outputs": [
    {
     "data": {
      "text/plain": [
       "ultima_review                    0.205588\n",
       "reviews_por_mes                  0.205588\n",
       "host_name                        0.000430\n",
       "nome                             0.000327\n",
       "id                               0.000000\n",
       "host_id                          0.000000\n",
       "bairro_group                     0.000000\n",
       "bairro                           0.000000\n",
       "latitude                         0.000000\n",
       "longitude                        0.000000\n",
       "room_type                        0.000000\n",
       "price                            0.000000\n",
       "minimo_noites                    0.000000\n",
       "numero_de_reviews                0.000000\n",
       "calculado_host_listings_count    0.000000\n",
       "disponibilidade_365              0.000000\n",
       "dtype: float64"
      ]
     },
     "execution_count": 8,
     "metadata": {},
     "output_type": "execute_result"
    }
   ],
   "source": [
    "(raw_data.isnull().sum()/raw_data.shape[0]).sort_values(ascending=False)"
   ]
  },
  {
   "cell_type": "markdown",
   "id": "ed0b1e01-77f1-488b-8cb9-e7bca3e6c4a8",
   "metadata": {},
   "source": [
    "## Informações estatísticas"
   ]
  },
  {
   "cell_type": "code",
   "execution_count": 9,
   "id": "5e9c0d34-da1a-441c-a14e-530ba7cd0da3",
   "metadata": {},
   "outputs": [
    {
     "data": {
      "text/html": [
       "<div>\n",
       "<style scoped>\n",
       "    .dataframe tbody tr th:only-of-type {\n",
       "        vertical-align: middle;\n",
       "    }\n",
       "\n",
       "    .dataframe tbody tr th {\n",
       "        vertical-align: top;\n",
       "    }\n",
       "\n",
       "    .dataframe thead th {\n",
       "        text-align: right;\n",
       "    }\n",
       "</style>\n",
       "<table border=\"1\" class=\"dataframe\">\n",
       "  <thead>\n",
       "    <tr style=\"text-align: right;\">\n",
       "      <th></th>\n",
       "      <th>id</th>\n",
       "      <th>host_id</th>\n",
       "      <th>latitude</th>\n",
       "      <th>longitude</th>\n",
       "      <th>price</th>\n",
       "      <th>minimo_noites</th>\n",
       "      <th>numero_de_reviews</th>\n",
       "      <th>reviews_por_mes</th>\n",
       "      <th>calculado_host_listings_count</th>\n",
       "      <th>disponibilidade_365</th>\n",
       "    </tr>\n",
       "  </thead>\n",
       "  <tbody>\n",
       "    <tr>\n",
       "      <th>count</th>\n",
       "      <td>4.889400e+04</td>\n",
       "      <td>4.889400e+04</td>\n",
       "      <td>48894.000000</td>\n",
       "      <td>48894.000000</td>\n",
       "      <td>48894.000000</td>\n",
       "      <td>48894.000000</td>\n",
       "      <td>48894.000000</td>\n",
       "      <td>38842.000000</td>\n",
       "      <td>48894.000000</td>\n",
       "      <td>48894.000000</td>\n",
       "    </tr>\n",
       "    <tr>\n",
       "      <th>mean</th>\n",
       "      <td>1.901753e+07</td>\n",
       "      <td>6.762139e+07</td>\n",
       "      <td>40.728951</td>\n",
       "      <td>-73.952169</td>\n",
       "      <td>152.720763</td>\n",
       "      <td>7.030085</td>\n",
       "      <td>23.274758</td>\n",
       "      <td>1.373251</td>\n",
       "      <td>7.144005</td>\n",
       "      <td>112.776169</td>\n",
       "    </tr>\n",
       "    <tr>\n",
       "      <th>std</th>\n",
       "      <td>1.098288e+07</td>\n",
       "      <td>7.861118e+07</td>\n",
       "      <td>0.054529</td>\n",
       "      <td>0.046157</td>\n",
       "      <td>240.156625</td>\n",
       "      <td>20.510741</td>\n",
       "      <td>44.550991</td>\n",
       "      <td>1.680453</td>\n",
       "      <td>32.952855</td>\n",
       "      <td>131.618692</td>\n",
       "    </tr>\n",
       "    <tr>\n",
       "      <th>min</th>\n",
       "      <td>2.595000e+03</td>\n",
       "      <td>2.438000e+03</td>\n",
       "      <td>40.499790</td>\n",
       "      <td>-74.244420</td>\n",
       "      <td>0.000000</td>\n",
       "      <td>1.000000</td>\n",
       "      <td>0.000000</td>\n",
       "      <td>0.010000</td>\n",
       "      <td>1.000000</td>\n",
       "      <td>0.000000</td>\n",
       "    </tr>\n",
       "    <tr>\n",
       "      <th>25%</th>\n",
       "      <td>9.472371e+06</td>\n",
       "      <td>7.822737e+06</td>\n",
       "      <td>40.690100</td>\n",
       "      <td>-73.983070</td>\n",
       "      <td>69.000000</td>\n",
       "      <td>1.000000</td>\n",
       "      <td>1.000000</td>\n",
       "      <td>0.190000</td>\n",
       "      <td>1.000000</td>\n",
       "      <td>0.000000</td>\n",
       "    </tr>\n",
       "    <tr>\n",
       "      <th>50%</th>\n",
       "      <td>1.967743e+07</td>\n",
       "      <td>3.079553e+07</td>\n",
       "      <td>40.723075</td>\n",
       "      <td>-73.955680</td>\n",
       "      <td>106.000000</td>\n",
       "      <td>3.000000</td>\n",
       "      <td>5.000000</td>\n",
       "      <td>0.720000</td>\n",
       "      <td>1.000000</td>\n",
       "      <td>45.000000</td>\n",
       "    </tr>\n",
       "    <tr>\n",
       "      <th>75%</th>\n",
       "      <td>2.915225e+07</td>\n",
       "      <td>1.074344e+08</td>\n",
       "      <td>40.763117</td>\n",
       "      <td>-73.936273</td>\n",
       "      <td>175.000000</td>\n",
       "      <td>5.000000</td>\n",
       "      <td>24.000000</td>\n",
       "      <td>2.020000</td>\n",
       "      <td>2.000000</td>\n",
       "      <td>227.000000</td>\n",
       "    </tr>\n",
       "    <tr>\n",
       "      <th>max</th>\n",
       "      <td>3.648724e+07</td>\n",
       "      <td>2.743213e+08</td>\n",
       "      <td>40.913060</td>\n",
       "      <td>-73.712990</td>\n",
       "      <td>10000.000000</td>\n",
       "      <td>1250.000000</td>\n",
       "      <td>629.000000</td>\n",
       "      <td>58.500000</td>\n",
       "      <td>327.000000</td>\n",
       "      <td>365.000000</td>\n",
       "    </tr>\n",
       "  </tbody>\n",
       "</table>\n",
       "</div>"
      ],
      "text/plain": [
       "                 id       host_id      latitude     longitude         price  \\\n",
       "count  4.889400e+04  4.889400e+04  48894.000000  48894.000000  48894.000000   \n",
       "mean   1.901753e+07  6.762139e+07     40.728951    -73.952169    152.720763   \n",
       "std    1.098288e+07  7.861118e+07      0.054529      0.046157    240.156625   \n",
       "min    2.595000e+03  2.438000e+03     40.499790    -74.244420      0.000000   \n",
       "25%    9.472371e+06  7.822737e+06     40.690100    -73.983070     69.000000   \n",
       "50%    1.967743e+07  3.079553e+07     40.723075    -73.955680    106.000000   \n",
       "75%    2.915225e+07  1.074344e+08     40.763117    -73.936273    175.000000   \n",
       "max    3.648724e+07  2.743213e+08     40.913060    -73.712990  10000.000000   \n",
       "\n",
       "       minimo_noites  numero_de_reviews  reviews_por_mes  \\\n",
       "count   48894.000000       48894.000000     38842.000000   \n",
       "mean        7.030085          23.274758         1.373251   \n",
       "std        20.510741          44.550991         1.680453   \n",
       "min         1.000000           0.000000         0.010000   \n",
       "25%         1.000000           1.000000         0.190000   \n",
       "50%         3.000000           5.000000         0.720000   \n",
       "75%         5.000000          24.000000         2.020000   \n",
       "max      1250.000000         629.000000        58.500000   \n",
       "\n",
       "       calculado_host_listings_count  disponibilidade_365  \n",
       "count                   48894.000000         48894.000000  \n",
       "mean                        7.144005           112.776169  \n",
       "std                        32.952855           131.618692  \n",
       "min                         1.000000             0.000000  \n",
       "25%                         1.000000             0.000000  \n",
       "50%                         1.000000            45.000000  \n",
       "75%                         2.000000           227.000000  \n",
       "max                       327.000000           365.000000  "
      ]
     },
     "execution_count": 9,
     "metadata": {},
     "output_type": "execute_result"
    }
   ],
   "source": [
    "raw_data.describe()"
   ]
  },
  {
   "cell_type": "markdown",
   "id": "59a887ed-8d68-4da1-9862-456abf2b7f7d",
   "metadata": {},
   "source": [
    "### Análise visual de como os dados estão distribuídos"
   ]
  },
  {
   "cell_type": "code",
   "execution_count": 10,
   "id": "e57695ef-8877-408a-9bcd-0eecf32a7985",
   "metadata": {},
   "outputs": [
    {
     "data": {
      "text/plain": [
       "array([[<Axes: title={'center': 'id'}>,\n",
       "        <Axes: title={'center': 'host_id'}>,\n",
       "        <Axes: title={'center': 'latitude'}>],\n",
       "       [<Axes: title={'center': 'longitude'}>,\n",
       "        <Axes: title={'center': 'price'}>,\n",
       "        <Axes: title={'center': 'minimo_noites'}>],\n",
       "       [<Axes: title={'center': 'numero_de_reviews'}>,\n",
       "        <Axes: title={'center': 'reviews_por_mes'}>,\n",
       "        <Axes: title={'center': 'calculado_host_listings_count'}>],\n",
       "       [<Axes: title={'center': 'disponibilidade_365'}>, <Axes: >,\n",
       "        <Axes: >]], dtype=object)"
      ]
     },
     "execution_count": 10,
     "metadata": {},
     "output_type": "execute_result"
    },
    {
     "data": {
      "image/png": "[encoded data removed]",
      "text/plain": [
       "<Figure size 3000x1500 with 12 Axes>"
      ]
     },
     "metadata": {},
     "output_type": "display_data"
    }
   ],
   "source": [
    "raw_data.hist(bins=30, figsize=(30,15))"
   ]
  },
  {
   "cell_type": "markdown",
   "id": "4e17972a-8a64-4f9c-a7ff-3a027d42c245",
   "metadata": {},
   "source": [
    "### Cálculo da mediana do preço (valor central)"
   ]
  },
  {
   "cell_type": "code",
   "execution_count": 11,
   "id": "1ef9467a-8b48-4ea9-9104-94141ce9e2dd",
   "metadata": {},
   "outputs": [
    {
     "data": {
      "text/plain": [
       "106.0"
      ]
     },
     "execution_count": 11,
     "metadata": {},
     "output_type": "execute_result"
    }
   ],
   "source": [
    "raw_data['price'].median()"
   ]
  },
  {
   "cell_type": "markdown",
   "id": "90e8c724-e958-4da6-bb60-2915469b4b7a",
   "metadata": {},
   "source": [
    "### Cálculo da estatística por tipo de imóvel x preço"
   ]
  },
  {
   "cell_type": "code",
   "execution_count": 12,
   "id": "1dd3bcc8-b99d-4daf-b665-13dd02751185",
   "metadata": {},
   "outputs": [
    {
     "name": "stdout",
     "output_type": "stream",
     "text": [
      "                   count        mean         std  min    25%    50%    75%  \\\n",
      "room_type                                                                    \n",
      "Entire home/apt  25409.0  211.794246  284.041611  0.0  120.0  160.0  229.0   \n",
      "Private room     22325.0   89.778320  160.208360  0.0   50.0   70.0   95.0   \n",
      "Shared room       1160.0   70.127586  101.725252  0.0   33.0   45.0   75.0   \n",
      "\n",
      "                     max  \n",
      "room_type                 \n",
      "Entire home/apt  10000.0  \n",
      "Private room     10000.0  \n",
      "Shared room       1800.0  \n"
     ]
    }
   ],
   "source": [
    "room_type_stats = raw_data.groupby('room_type')['price'].describe()\n",
    "print(room_type_stats)"
   ]
  },
  {
   "cell_type": "markdown",
   "id": "cac3e4e1-fe3b-4303-a7e9-3d4df09b7f28",
   "metadata": {},
   "source": [
    "### Cálculo da estatística por tipo de imóvel x disponibilidade "
   ]
  },
  {
   "cell_type": "code",
   "execution_count": 13,
   "id": "5f954ef8-c573-47e1-8b73-864a75243ed7",
   "metadata": {},
   "outputs": [
    {
     "name": "stdout",
     "output_type": "stream",
     "text": [
      "                   count        mean         std  min  25%   50%    75%    max\n",
      "room_type                                                                     \n",
      "Entire home/apt  25409.0  111.920304  129.802937  0.0  0.0  42.0  229.0  365.0\n",
      "Private room     22325.0  111.192564  132.084102  0.0  0.0  45.0  214.0  365.0\n",
      "Shared room       1160.0  162.000862  151.347109  0.0  0.0  90.0  341.0  365.0\n"
     ]
    }
   ],
   "source": [
    "availability_stats = raw_data.groupby('room_type')['disponibilidade_365'].describe()\n",
    "print(availability_stats)"
   ]
  },
  {
   "cell_type": "markdown",
   "id": "c296361c-ab46-4990-9321-b1b0d0cff921",
   "metadata": {},
   "source": [
    "### Análise da relação entre o bairro e o preço"
   ]
  },
  {
   "cell_type": "code",
   "execution_count": 14,
   "id": "5409e180-bd84-4d63-a61a-67e22650c231",
   "metadata": {},
   "outputs": [
    {
     "name": "stdout",
     "output_type": "stream",
     "text": [
      "                                   price  disponibilidade_365\n",
      "bairro_group  bairro                                         \n",
      "Staten Island Fort Wadsworth  800.000000           365.000000\n",
      "              Woodrow         700.000000             0.000000\n",
      "Manhattan     Tribeca         490.638418           126.508475\n",
      "Brooklyn      Sea Gate        487.857143            65.571429\n",
      "Bronx         Riverdale       442.090909           160.818182\n",
      "...                                  ...                  ...\n",
      "Staten Island New Dorp         57.000000             0.000000\n",
      "Bronx         Soundview        53.466667           133.666667\n",
      "              Tremont          51.545455           119.000000\n",
      "              Hunts Point      50.500000           239.166667\n",
      "Staten Island Bull's Head      47.333333           165.666667\n",
      "\n",
      "[221 rows x 2 columns]\n"
     ]
    }
   ],
   "source": [
    "nb_stats = raw_data.groupby(['bairro_group', 'bairro'])[['price', 'disponibilidade_365']].mean().sort_values(by='price', ascending=False)\n",
    "print(nb_stats)"
   ]
  },
  {
   "cell_type": "code",
   "execution_count": 15,
   "id": "0094995f-c998-45b3-b23a-915048b1d3ae",
   "metadata": {},
   "outputs": [
    {
     "data": {
      "text/plain": [
       "<Axes: xlabel='bairro_group', ylabel='price'>"
      ]
     },
     "execution_count": 15,
     "metadata": {},
     "output_type": "execute_result"
    },
    {
     "data": {
      "image/png": "[encoded data removed]",
      "text/plain": [
       "<Figure size 640x480 with 1 Axes>"
      ]
     },
     "metadata": {},
     "output_type": "display_data"
    }
   ],
   "source": [
    "sns.barplot(data = nb_stats.reset_index(), x='bairro_group', y='price', errorbar=None)"
   ]
  },
  {
   "cell_type": "markdown",
   "id": "777a32fe-65c8-4363-89da-61d9a609bc79",
   "metadata": {},
   "source": [
    "### Análise de correlação entre o mínimo de noites, disponibilidade nos 365 dias e preço"
   ]
  },
  {
   "cell_type": "code",
   "execution_count": 16,
   "id": "aff874a5-6545-493a-82e6-f4906b1f80a2",
   "metadata": {},
   "outputs": [
    {
     "name": "stdout",
     "output_type": "stream",
     "text": [
      "                     minimo_noites  disponibilidade_365     price\n",
      "minimo_noites             1.000000             0.144320  0.042799\n",
      "disponibilidade_365       0.144320             1.000000  0.081833\n",
      "price                     0.042799             0.081833  1.000000\n"
     ]
    }
   ],
   "source": [
    "cols = ['minimo_noites', 'disponibilidade_365', 'price']  \n",
    "corr_matrix = raw_data[cols].corr()  \n",
    "print(corr_matrix)  "
   ]
  },
  {
   "cell_type": "code",
   "execution_count": 17,
   "id": "f31f433c-cd4e-4add-a4bb-20ee8702eb47",
   "metadata": {},
   "outputs": [
    {
     "data": {
      "image/png": "[encoded data removed]",
      "text/plain": [
       "<Figure size 800x600 with 2 Axes>"
      ]
     },
     "metadata": {},
     "output_type": "display_data"
    }
   ],
   "source": [
    "plt.figure(figsize=(8, 6))  \n",
    "sns.heatmap(corr_matrix, annot=True, cmap='coolwarm', vmin=-1, vmax=1)  \n",
    "plt.show()  "
   ]
  },
  {
   "cell_type": "markdown",
   "id": "a99b1582-bbf6-4f06-bb41-bebd70984fdb",
   "metadata": {},
   "source": [
    "#### *O mapa de calor indica correlação fraca entre o preço e as variáveis \"mínimo_noites\" e \"disponibilidade_365\" dias."
   ]
  },
  {
   "cell_type": "markdown",
   "id": "b6642e82-df97-4046-ac80-1dc09dfbf94d",
   "metadata": {},
   "source": [
    "### Análise do impacto das palavras nos anúncios em relação ao preço"
   ]
  },
  {
   "cell_type": "code",
   "execution_count": 18,
   "id": "d7aec7bc-faf1-4219-bf66-62ed35dc8012",
   "metadata": {},
   "outputs": [
    {
     "data": {
      "image/png": "[encoded data removed]",
      "text/plain": [
       "<Figure size 1200x800 with 1 Axes>"
      ]
     },
     "metadata": {},
     "output_type": "display_data"
    }
   ],
   "source": [
    "raw_data['nome'] = raw_data['nome'].fillna('')\n",
    "keywords = ['Manhattan', 'Staten Island', 'Brooklyn', 'Bronx', 'Queens','luxury', 'central', 'beach', 'modern', 'spacious', 'loft', 'duplex', 'view', 'penthouse', 'apartment']\n",
    "\n",
    "for keyword in keywords:\n",
    "    raw_data[keyword] = raw_data['nome'].apply(lambda x: keyword.lower() in x.lower() if isinstance(x, str) else False)\n",
    "\n",
    "keyword_price = {}\n",
    "for keyword in keywords:\n",
    "    keyword_price[keyword] = raw_data[raw_data[keyword]]['price'].mean()\n",
    "\n",
    "plt.figure(figsize=(12, 8))\n",
    "sns.barplot(x=list(keyword_price.keys()), y=list(keyword_price.values()))\n",
    "plt.xlabel('Palavras-Chave no Anúncio')\n",
    "plt.ylabel('Média de Preço em Dólares')\n",
    "plt.xticks(rotation=90)\n",
    "plt.show()"
   ]
  },
  {
   "cell_type": "markdown",
   "id": "591ed7e7-3eac-43f3-939d-4e40c8707b7b",
   "metadata": {},
   "source": [
    "## Limpeza dos valores nulos no dataset"
   ]
  },
  {
   "cell_type": "code",
   "execution_count": 19,
   "id": "63978a0c-0ea2-473c-b7a4-fca99496050b",
   "metadata": {},
   "outputs": [
    {
     "data": {
      "text/plain": [
       "reviews_por_mes                  10052\n",
       "ultima_review                    10052\n",
       "host_name                           21\n",
       "id                                   0\n",
       "beach                                0\n",
       "Bronx                                0\n",
       "Queens                               0\n",
       "luxury                               0\n",
       "central                              0\n",
       "modern                               0\n",
       "Staten Island                        0\n",
       "spacious                             0\n",
       "loft                                 0\n",
       "duplex                               0\n",
       "view                                 0\n",
       "penthouse                            0\n",
       "Brooklyn                             0\n",
       "disponibilidade_365                  0\n",
       "Manhattan                            0\n",
       "nome                                 0\n",
       "calculado_host_listings_count        0\n",
       "numero_de_reviews                    0\n",
       "minimo_noites                        0\n",
       "price                                0\n",
       "room_type                            0\n",
       "longitude                            0\n",
       "latitude                             0\n",
       "bairro                               0\n",
       "bairro_group                         0\n",
       "host_id                              0\n",
       "apartment                            0\n",
       "dtype: int64"
      ]
     },
     "execution_count": 19,
     "metadata": {},
     "output_type": "execute_result"
    }
   ],
   "source": [
    "raw_data.isnull().sum().sort_values(ascending=False)"
   ]
  },
  {
   "cell_type": "markdown",
   "id": "805d52fc-732f-4a0f-9208-e87f82ecad74",
   "metadata": {},
   "source": [
    "## Processo para eliminação das colunas com porcentagem dos valores nulos"
   ]
  },
  {
   "cell_type": "markdown",
   "id": "876af754-924a-424d-9df9-a19d7c7519ce",
   "metadata": {},
   "source": [
    "### Verificação das porcentagens dos valores nulos."
   ]
  },
  {
   "cell_type": "code",
   "execution_count": 20,
   "id": "47a16667-f910-4bc8-9fa3-844a1e2c68a1",
   "metadata": {},
   "outputs": [
    {
     "data": {
      "text/plain": [
       "reviews_por_mes                  0.205588\n",
       "ultima_review                    0.205588\n",
       "host_name                        0.000430\n",
       "id                               0.000000\n",
       "beach                            0.000000\n",
       "Bronx                            0.000000\n",
       "Queens                           0.000000\n",
       "luxury                           0.000000\n",
       "central                          0.000000\n",
       "modern                           0.000000\n",
       "Staten Island                    0.000000\n",
       "spacious                         0.000000\n",
       "loft                             0.000000\n",
       "duplex                           0.000000\n",
       "view                             0.000000\n",
       "penthouse                        0.000000\n",
       "Brooklyn                         0.000000\n",
       "disponibilidade_365              0.000000\n",
       "Manhattan                        0.000000\n",
       "nome                             0.000000\n",
       "calculado_host_listings_count    0.000000\n",
       "numero_de_reviews                0.000000\n",
       "minimo_noites                    0.000000\n",
       "price                            0.000000\n",
       "room_type                        0.000000\n",
       "longitude                        0.000000\n",
       "latitude                         0.000000\n",
       "bairro                           0.000000\n",
       "bairro_group                     0.000000\n",
       "host_id                          0.000000\n",
       "apartment                        0.000000\n",
       "dtype: float64"
      ]
     },
     "execution_count": 20,
     "metadata": {},
     "output_type": "execute_result"
    }
   ],
   "source": [
    "(raw_data.isnull().sum().sort_values(ascending=False)/raw_data.shape[0]) "
   ]
  },
  {
   "cell_type": "markdown",
   "id": "e860efca-7287-4e45-905d-28b9f72ccfe8",
   "metadata": {},
   "source": [
    "### Exclusão das colunas \"reviews_por_mes\", \"ultima_reviwe\" e \"host_name\""
   ]
  },
  {
   "cell_type": "code",
   "execution_count": 21,
   "id": "459182a3-f6e2-42ce-9c65-b06a90da94ce",
   "metadata": {},
   "outputs": [
    {
     "name": "stdout",
     "output_type": "stream",
     "text": [
      "Index(['id', 'nome', 'host_id', 'bairro_group', 'bairro', 'latitude',\n",
      "       'longitude', 'room_type', 'price', 'minimo_noites', 'numero_de_reviews',\n",
      "       'calculado_host_listings_count', 'disponibilidade_365', 'Manhattan',\n",
      "       'Staten Island', 'Brooklyn', 'Bronx', 'Queens', 'luxury', 'central',\n",
      "       'beach', 'modern', 'spacious', 'loft', 'duplex', 'view', 'penthouse',\n",
      "       'apartment'],\n",
      "      dtype='object')\n"
     ]
    }
   ],
   "source": [
    "raw_data.drop(columns = ['reviews_por_mes', 'ultima_review', 'host_name'], inplace=True)\n",
    "print(raw_data.columns)"
   ]
  },
  {
   "cell_type": "markdown",
   "id": "aec73f48-96cc-41b6-a3fe-b6ccc1a4e8d5",
   "metadata": {},
   "source": [
    "### Exclusão das colunas \"id\", \"host_id\", \"bairro\", \"minimo_noites\", \"disponibilidade_365\", \"numero_de_reviews\", \"calculado_host_listings_count\""
   ]
  },
  {
   "cell_type": "code",
   "execution_count": 22,
   "id": "2b462e33-2c08-4ec1-8cb0-98dc4545423c",
   "metadata": {},
   "outputs": [
    {
     "name": "stdout",
     "output_type": "stream",
     "text": [
      "Index(['nome', 'bairro_group', 'latitude', 'longitude', 'room_type', 'price',\n",
      "       'Manhattan', 'Staten Island', 'Brooklyn', 'Bronx', 'Queens', 'luxury',\n",
      "       'central', 'beach', 'modern', 'spacious', 'loft', 'duplex', 'view',\n",
      "       'penthouse', 'apartment'],\n",
      "      dtype='object')\n"
     ]
    }
   ],
   "source": [
    "raw_data.drop(columns = [\"id\", \"host_id\", \"bairro\", \"minimo_noites\", \"disponibilidade_365\", \"numero_de_reviews\", \"calculado_host_listings_count\"], inplace=True)\n",
    "print(raw_data.columns)"
   ]
  },
  {
   "cell_type": "markdown",
   "id": "8d6d1d22-49c6-496b-824f-7b549650f825",
   "metadata": {},
   "source": [
    "### Verificação dos tipos de dados das colunas que restaram"
   ]
  },
  {
   "cell_type": "code",
   "execution_count": 23,
   "id": "fdce2b13-499f-4d56-b1bc-30f920e7990f",
   "metadata": {},
   "outputs": [
    {
     "name": "stdout",
     "output_type": "stream",
     "text": [
      "nome              object\n",
      "bairro_group      object\n",
      "latitude         float64\n",
      "longitude        float64\n",
      "room_type         object\n",
      "price              int64\n",
      "Manhattan           bool\n",
      "Staten Island       bool\n",
      "Brooklyn            bool\n",
      "Bronx               bool\n",
      "Queens              bool\n",
      "luxury              bool\n",
      "central             bool\n",
      "beach               bool\n",
      "modern              bool\n",
      "spacious            bool\n",
      "loft                bool\n",
      "duplex              bool\n",
      "view                bool\n",
      "penthouse           bool\n",
      "apartment           bool\n",
      "dtype: object\n"
     ]
    }
   ],
   "source": [
    "print(raw_data.dtypes)"
   ]
  },
  {
   "cell_type": "markdown",
   "id": "b3303db5-546d-49c5-9900-1d18585abd11",
   "metadata": {},
   "source": [
    "### Transformação das palavras-chave na variável \"nome\" para a forma binária"
   ]
  },
  {
   "cell_type": "code",
   "execution_count": 24,
   "id": "2b7a74fe-db12-45de-9748-4c734066ff42",
   "metadata": {},
   "outputs": [],
   "source": [
    "key_words = [\"penthouse\",\"luxury\", \"duplex\", \"view\", \"loft\"]\n",
    "for keyword in key_words:\n",
    "    raw_data[f\"contains_{keyword}\"] = raw_data[\"nome\"].str.contains(keyword, case= False, na= False).astype(int)"
   ]
  },
  {
   "cell_type": "code",
   "execution_count": 25,
   "id": "1d8a82c3-3da0-4e8c-99f9-9171f903f69b",
   "metadata": {},
   "outputs": [
    {
     "name": "stdout",
     "output_type": "stream",
     "text": [
      "nome                   object\n",
      "bairro_group           object\n",
      "latitude              float64\n",
      "longitude             float64\n",
      "room_type              object\n",
      "price                   int64\n",
      "Manhattan                bool\n",
      "Staten Island            bool\n",
      "Brooklyn                 bool\n",
      "Bronx                    bool\n",
      "Queens                   bool\n",
      "luxury                   bool\n",
      "central                  bool\n",
      "beach                    bool\n",
      "modern                   bool\n",
      "spacious                 bool\n",
      "loft                     bool\n",
      "duplex                   bool\n",
      "view                     bool\n",
      "penthouse                bool\n",
      "apartment                bool\n",
      "contains_penthouse      int64\n",
      "contains_luxury         int64\n",
      "contains_duplex         int64\n",
      "contains_view           int64\n",
      "contains_loft           int64\n",
      "dtype: object\n"
     ]
    }
   ],
   "source": [
    "print(raw_data.dtypes)"
   ]
  },
  {
   "cell_type": "code",
   "execution_count": 26,
   "id": "ecba5e70-631c-4334-93de-0f5744749d91",
   "metadata": {},
   "outputs": [
    {
     "name": "stdout",
     "output_type": "stream",
     "text": [
      "bairro_group           object\n",
      "latitude              float64\n",
      "longitude             float64\n",
      "room_type              object\n",
      "price                   int64\n",
      "Manhattan                bool\n",
      "Staten Island            bool\n",
      "Brooklyn                 bool\n",
      "Bronx                    bool\n",
      "Queens                   bool\n",
      "luxury                   bool\n",
      "central                  bool\n",
      "beach                    bool\n",
      "modern                   bool\n",
      "spacious                 bool\n",
      "loft                     bool\n",
      "duplex                   bool\n",
      "view                     bool\n",
      "penthouse                bool\n",
      "apartment                bool\n",
      "contains_penthouse      int64\n",
      "contains_luxury         int64\n",
      "contains_duplex         int64\n",
      "contains_view           int64\n",
      "contains_loft           int64\n",
      "dtype: object\n"
     ]
    }
   ],
   "source": [
    "raw_data.drop(columns = [\"nome\"], inplace=True)\n",
    "print(raw_data.dtypes)"
   ]
  },
  {
   "cell_type": "markdown",
   "id": "592e488a-e711-44b3-8fb3-3e5d517b7088",
   "metadata": {},
   "source": [
    "### Transformação do conteúdo das novas colunas para o tipo boleano"
   ]
  },
  {
   "cell_type": "code",
   "execution_count": 27,
   "id": "96a92a8d-6f72-466c-b381-53297f25f0c8",
   "metadata": {},
   "outputs": [
    {
     "name": "stdout",
     "output_type": "stream",
     "text": [
      "bairro_group           object\n",
      "latitude              float64\n",
      "longitude             float64\n",
      "room_type              object\n",
      "price                   int64\n",
      "Manhattan                bool\n",
      "Staten Island            bool\n",
      "Brooklyn                 bool\n",
      "Bronx                    bool\n",
      "Queens                   bool\n",
      "luxury                   bool\n",
      "central                  bool\n",
      "beach                    bool\n",
      "modern                   bool\n",
      "spacious                 bool\n",
      "loft                     bool\n",
      "duplex                   bool\n",
      "view                     bool\n",
      "penthouse                bool\n",
      "apartment                bool\n",
      "contains_penthouse       bool\n",
      "contains_luxury          bool\n",
      "contains_duplex          bool\n",
      "contains_view            bool\n",
      "contains_loft            bool\n",
      "dtype: object\n"
     ]
    }
   ],
   "source": [
    "for colum in raw_data.columns:\n",
    "    if colum.startswith(\"contains_\"):\n",
    "        raw_data[colum] = raw_data[colum].astype(bool)\n",
    "\n",
    "print(raw_data.dtypes)"
   ]
  },
  {
   "cell_type": "markdown",
   "id": "89aa84bc-38b4-4047-ab81-9f0e1057c05b",
   "metadata": {},
   "source": [
    "### Transformação do conteúdo das colunas restantes do tipo object para o tipo inteiro (0 ou 1)\n"
   ]
  },
  {
   "cell_type": "code",
   "execution_count": 28,
   "id": "3a3656e3-e844-4c4d-8a63-81bf27f725be",
   "metadata": {},
   "outputs": [
    {
     "name": "stdout",
     "output_type": "stream",
     "text": [
      "latitude                      float64\n",
      "longitude                     float64\n",
      "price                           int64\n",
      "Manhattan                        bool\n",
      "Staten Island                    bool\n",
      "Brooklyn                         bool\n",
      "Bronx                            bool\n",
      "Queens                           bool\n",
      "luxury                           bool\n",
      "central                          bool\n",
      "beach                            bool\n",
      "modern                           bool\n",
      "spacious                         bool\n",
      "loft                             bool\n",
      "duplex                           bool\n",
      "view                             bool\n",
      "penthouse                        bool\n",
      "apartment                        bool\n",
      "contains_penthouse               bool\n",
      "contains_luxury                  bool\n",
      "contains_duplex                  bool\n",
      "contains_view                    bool\n",
      "contains_loft                    bool\n",
      "bairro_group_Bronx              int64\n",
      "bairro_group_Brooklyn           int64\n",
      "bairro_group_Manhattan          int64\n",
      "bairro_group_Queens             int64\n",
      "bairro_group_Staten Island      int64\n",
      "room_type_Entire home/apt       int64\n",
      "room_type_Private room          int64\n",
      "room_type_Shared room           int64\n",
      "dtype: object\n"
     ]
    }
   ],
   "source": [
    "raw_data = pd.get_dummies(raw_data, columns = [\"bairro_group\", \"room_type\"], drop_first =False, dtype= int)\n",
    "print(raw_data.dtypes)"
   ]
  },
  {
   "cell_type": "code",
   "execution_count": 29,
   "id": "1dca9e30-b5b9-4335-b44f-56db0b4f6478",
   "metadata": {},
   "outputs": [
    {
     "name": "stdout",
     "output_type": "stream",
     "text": [
      "Bronx\n",
      "False    48715\n",
      "True       179\n",
      "Name: count, dtype: int64\n"
     ]
    }
   ],
   "source": [
    "print(raw_data['Bronx'].value_counts())"
   ]
  },
  {
   "cell_type": "markdown",
   "id": "864354c2-4c00-4145-9795-eba099600ee1",
   "metadata": {},
   "source": [
    "### Exclusão das colunas \"Manhattan\", \"Staten Island\", \"Brooklyn\", \"Bronx\" e \"Queens\""
   ]
  },
  {
   "cell_type": "markdown",
   "id": "fdf1cae2-e5c0-4d83-8f16-250a1d80a548",
   "metadata": {},
   "source": [
    "#### **OBS:** O bairro Bronx será removido por ter baixa representatividade no dataset"
   ]
  },
  {
   "cell_type": "code",
   "execution_count": 30,
   "id": "9ab75fc3-c007-4212-9877-f0915a584fe6",
   "metadata": {},
   "outputs": [
    {
     "name": "stdout",
     "output_type": "stream",
     "text": [
      "latitude                      float64\n",
      "longitude                     float64\n",
      "price                           int64\n",
      "luxury                           bool\n",
      "central                          bool\n",
      "beach                            bool\n",
      "modern                           bool\n",
      "spacious                         bool\n",
      "loft                             bool\n",
      "duplex                           bool\n",
      "view                             bool\n",
      "penthouse                        bool\n",
      "apartment                        bool\n",
      "contains_penthouse               bool\n",
      "contains_luxury                  bool\n",
      "contains_duplex                  bool\n",
      "contains_view                    bool\n",
      "contains_loft                    bool\n",
      "bairro_group_Bronx              int64\n",
      "bairro_group_Brooklyn           int64\n",
      "bairro_group_Manhattan          int64\n",
      "bairro_group_Queens             int64\n",
      "bairro_group_Staten Island      int64\n",
      "room_type_Entire home/apt       int64\n",
      "room_type_Private room          int64\n",
      "room_type_Shared room           int64\n",
      "dtype: object\n"
     ]
    }
   ],
   "source": [
    "raw_data.drop(columns = [\"Bronx\", \"Manhattan\", \"Staten Island\", \"Brooklyn\", \"Queens\"], inplace=True)\n",
    "print(raw_data.dtypes)"
   ]
  },
  {
   "cell_type": "markdown",
   "id": "c6828eac-f923-4798-8d1e-f8f9a5bcdae0",
   "metadata": {},
   "source": [
    "### Escalonamento das Variáveis Numéricas"
   ]
  },
  {
   "cell_type": "code",
   "execution_count": 31,
   "id": "0728acc5-02de-4253-b252-e66f000e553a",
   "metadata": {},
   "outputs": [],
   "source": [
    "numeric_features = [\"latitude\", \"longitude\"]\n",
    "scaler = StandardScaler()\n",
    "raw_data[numeric_features] = scaler.fit_transform(raw_data[numeric_features])"
   ]
  },
  {
   "cell_type": "code",
   "execution_count": 32,
   "id": "f7efd24f-b636-4fd0-8b20-e13c55d3cef2",
   "metadata": {},
   "outputs": [
    {
     "data": {
      "text/html": [
       "<div>\n",
       "<style scoped>\n",
       "    .dataframe tbody tr th:only-of-type {\n",
       "        vertical-align: middle;\n",
       "    }\n",
       "\n",
       "    .dataframe tbody tr th {\n",
       "        vertical-align: top;\n",
       "    }\n",
       "\n",
       "    .dataframe thead th {\n",
       "        text-align: right;\n",
       "    }\n",
       "</style>\n",
       "<table border=\"1\" class=\"dataframe\">\n",
       "  <thead>\n",
       "    <tr style=\"text-align: right;\">\n",
       "      <th></th>\n",
       "      <th>latitude</th>\n",
       "      <th>longitude</th>\n",
       "    </tr>\n",
       "  </thead>\n",
       "  <tbody>\n",
       "    <tr>\n",
       "      <th>count</th>\n",
       "      <td>4.889400e+04</td>\n",
       "      <td>4.889400e+04</td>\n",
       "    </tr>\n",
       "    <tr>\n",
       "      <th>mean</th>\n",
       "      <td>4.655106e-14</td>\n",
       "      <td>-1.842360e-13</td>\n",
       "    </tr>\n",
       "    <tr>\n",
       "      <th>std</th>\n",
       "      <td>1.000010e+00</td>\n",
       "      <td>1.000010e+00</td>\n",
       "    </tr>\n",
       "    <tr>\n",
       "      <th>min</th>\n",
       "      <td>-4.202557e+00</td>\n",
       "      <td>-6.331717e+00</td>\n",
       "    </tr>\n",
       "    <tr>\n",
       "      <th>25%</th>\n",
       "      <td>-7.124771e-01</td>\n",
       "      <td>-6.694767e-01</td>\n",
       "    </tr>\n",
       "    <tr>\n",
       "      <th>50%</th>\n",
       "      <td>-1.077512e-01</td>\n",
       "      <td>-7.606269e-02</td>\n",
       "    </tr>\n",
       "    <tr>\n",
       "      <th>75%</th>\n",
       "      <td>6.265851e-01</td>\n",
       "      <td>3.444076e-01</td>\n",
       "    </tr>\n",
       "    <tr>\n",
       "      <th>max</th>\n",
       "      <td>3.376369e+00</td>\n",
       "      <td>5.181902e+00</td>\n",
       "    </tr>\n",
       "  </tbody>\n",
       "</table>\n",
       "</div>"
      ],
      "text/plain": [
       "           latitude     longitude\n",
       "count  4.889400e+04  4.889400e+04\n",
       "mean   4.655106e-14 -1.842360e-13\n",
       "std    1.000010e+00  1.000010e+00\n",
       "min   -4.202557e+00 -6.331717e+00\n",
       "25%   -7.124771e-01 -6.694767e-01\n",
       "50%   -1.077512e-01 -7.606269e-02\n",
       "75%    6.265851e-01  3.444076e-01\n",
       "max    3.376369e+00  5.181902e+00"
      ]
     },
     "execution_count": 32,
     "metadata": {},
     "output_type": "execute_result"
    }
   ],
   "source": [
    "raw_data[numeric_features].describe()"
   ]
  },
  {
   "cell_type": "markdown",
   "id": "f8c38e17-d512-43e6-9e28-af38b84efaec",
   "metadata": {},
   "source": [
    "#### *Após escalonamento da latitude e longitude aparentemente a normalização destes dados foi realizada sem perda de informação."
   ]
  },
  {
   "cell_type": "markdown",
   "id": "4576ab0c-c864-4ee8-819c-6083755f4deb",
   "metadata": {},
   "source": [
    "### Tratamento da discrepância no preço (outliers)"
   ]
  },
  {
   "cell_type": "code",
   "execution_count": 33,
   "id": "2e3e3c72-6399-47d6-8a0c-e14fbdada326",
   "metadata": {},
   "outputs": [
    {
     "data": {
      "text/plain": [
       "count    48894.000000\n",
       "mean       152.720763\n",
       "std        240.156625\n",
       "min          0.000000\n",
       "25%         69.000000\n",
       "50%        106.000000\n",
       "75%        175.000000\n",
       "max      10000.000000\n",
       "Name: price, dtype: float64"
      ]
     },
     "execution_count": 33,
     "metadata": {},
     "output_type": "execute_result"
    }
   ],
   "source": [
    "raw_data['price'].describe()\n"
   ]
  },
  {
   "cell_type": "markdown",
   "id": "a9efe850-1fbe-478a-b302-2fc04a8ad9ea",
   "metadata": {},
   "source": [
    "### Aplicação da técnica do intervalo interquartil (IQR) para identificar os outliers"
   ]
  },
  {
   "cell_type": "code",
   "execution_count": 34,
   "id": "6c79479f-a043-455f-8949-c23e729d2aa9",
   "metadata": {},
   "outputs": [
    {
     "name": "stdout",
     "output_type": "stream",
     "text": [
      "Quantidade: 2972 outliers\n"
     ]
    }
   ],
   "source": [
    "Q1 = raw_data['price'].quantile(0.25)\n",
    "Q3 = raw_data['price'].quantile(0.75)\n",
    "IQR = Q3 - Q1\n",
    "lower_limit = Q1 - 1.5 * IQR\n",
    "upper_limit = Q3 + 1.5 * IQR\n",
    "\n",
    "outliers = raw_data[(raw_data[\"price\"] < lower_limit) | (raw_data[\"price\"] > upper_limit)]\n",
    "print(f\"Quantidade: {len(outliers)} outliers\")"
   ]
  },
  {
   "cell_type": "markdown",
   "id": "f573ab89-4238-4464-a610-f88842b16c78",
   "metadata": {},
   "source": [
    "### Representação visual dos outliers"
   ]
  },
  {
   "cell_type": "code",
   "execution_count": 35,
   "id": "1ef7df9f-2331-4bca-aa4d-0a3e81903b08",
   "metadata": {},
   "outputs": [
    {
     "data": {
      "image/png": "[encoded data removed]",
      "text/plain": [
       "<Figure size 1000x700 with 1 Axes>"
      ]
     },
     "metadata": {},
     "output_type": "display_data"
    }
   ],
   "source": [
    "total_properties = 45922\n",
    "outliers = 385\n",
    "normal = total_properties - outliers\n",
    "\n",
    "sizes = [normal, outliers]\n",
    "labels = [\"(Imóveis com preços praticados no mercado: 45.922 imóveis)\", \"(Outliers: 385 imóveis)\"]\n",
    "colors = [\"#008000\", \"#e74c3c\"]\n",
    "\n",
    "plt.figure(figsize=(10,7))\n",
    "plt.pie(sizes, labels=labels, colors=colors, autopct=\"%1.2f%%\", \n",
    "        startangle=90, explode=(0, 0.1))\n",
    "plt.axis(\"equal\")\n",
    "plt.show()"
   ]
  },
  {
   "cell_type": "markdown",
   "id": "2d732cf4-0fa8-43ae-9568-6ccf1bb85052",
   "metadata": {},
   "source": [
    "### Seleção das \"features\" (variáveis) para o treinamento do modelo"
   ]
  },
  {
   "cell_type": "code",
   "execution_count": 36,
   "id": "73e28db1-d2e1-44c9-aa7f-5ec3507de5a4",
   "metadata": {},
   "outputs": [],
   "source": [
    "features = [\"latitude\", \"longitude\", \"bairro_group_Bronx\", \"bairro_group_Brooklyn\", \"bairro_group_Manhattan\", \"bairro_group_Queens\", \n",
    "            \"bairro_group_Staten Island\", \"room_type_Entire home/apt\", \"room_type_Private room\", \"room_type_Shared room\"]"
   ]
  },
  {
   "cell_type": "markdown",
   "id": "d90c77e9-d957-4ef9-af1c-ff6995dabbd1",
   "metadata": {},
   "source": [
    "### Definição da variável target"
   ]
  },
  {
   "cell_type": "code",
   "execution_count": 37,
   "id": "67a2d776-07d7-4d2b-bbe5-7bbea1dcc10d",
   "metadata": {},
   "outputs": [],
   "source": [
    "X = raw_data[features]\n",
    "y = raw_data[\"price\"]"
   ]
  },
  {
   "cell_type": "markdown",
   "id": "5f0a1886-7824-4931-9392-ae66058ddd27",
   "metadata": {},
   "source": [
    "## **Início da criação do modelo**"
   ]
  },
  {
   "cell_type": "markdown",
   "id": "44f986f1-bb47-4baf-ab90-9da4201d6f2c",
   "metadata": {},
   "source": [
    "### Separação do conjunto de treino (70%) e teste (20%) "
   ]
  },
  {
   "cell_type": "code",
   "execution_count": 38,
   "id": "1ba565d9-8a22-486c-8095-326b19361adc",
   "metadata": {},
   "outputs": [
    {
     "name": "stdout",
     "output_type": "stream",
     "text": [
      "Treino: (39115, 10)\n",
      "Teste: (9779, 10)\n"
     ]
    }
   ],
   "source": [
    "X_train, X_test, y_train, y_test = train_test_split(X, y, test_size=0.2, random_state=2025)\n",
    "print(\"Treino:\", X_train.shape)\n",
    "print(\"Teste:\", X_test.shape)"
   ]
  },
  {
   "cell_type": "markdown",
   "id": "326e4dc5-9dbd-4fab-b5d1-d5c330b10365",
   "metadata": {},
   "source": [
    "### Criação do modelo de regressão linear"
   ]
  },
  {
   "cell_type": "code",
   "execution_count": 39,
   "id": "18ee033e-5ba8-4e61-a06b-8fd65be8bc1d",
   "metadata": {},
   "outputs": [],
   "source": [
    "model = LinearRegression()"
   ]
  },
  {
   "cell_type": "markdown",
   "id": "3091983a-4b21-41f7-ad7b-2ec8b9f40f2e",
   "metadata": {},
   "source": [
    "### Treinamento do modelo"
   ]
  },
  {
   "cell_type": "code",
   "execution_count": 40,
   "id": "ba18714a-0035-42ce-8fea-d7ba00a51cb1",
   "metadata": {},
   "outputs": [
    {
     "data": {
      "text/html": [
       "<style>#sk-container-id-1 {\n",
       "  /* Definition of color scheme common for light and dark mode */\n",
       "  --sklearn-color-text: #000;\n",
       "  --sklearn-color-text-muted: #666;\n",
       "  --sklearn-color-line: gray;\n",
       "  /* Definition of color scheme for unfitted estimators */\n",
       "  --sklearn-color-unfitted-level-0: #fff5e6;\n",
       "  --sklearn-color-unfitted-level-1: #f6e4d2;\n",
       "  --sklearn-color-unfitted-level-2: #ffe0b3;\n",
       "  --sklearn-color-unfitted-level-3: chocolate;\n",
       "  /* Definition of color scheme for fitted estimators */\n",
       "  --sklearn-color-fitted-level-0: #f0f8ff;\n",
       "  --sklearn-color-fitted-level-1: #d4ebff;\n",
       "  --sklearn-color-fitted-level-2: #b3dbfd;\n",
       "  --sklearn-color-fitted-level-3: cornflowerblue;\n",
       "\n",
       "  /* Specific color for light theme */\n",
       "  --sklearn-color-text-on-default-background: var(--sg-text-color, var(--theme-code-foreground, var(--jp-content-font-color1, black)));\n",
       "  --sklearn-color-background: var(--sg-background-color, var(--theme-background, var(--jp-layout-color0, white)));\n",
       "  --sklearn-color-border-box: var(--sg-text-color, var(--theme-code-foreground, var(--jp-content-font-color1, black)));\n",
       "  --sklearn-color-icon: #696969;\n",
       "\n",
       "  @media (prefers-color-scheme: dark) {\n",
       "    /* Redefinition of color scheme for dark theme */\n",
       "    --sklearn-color-text-on-default-background: var(--sg-text-color, var(--theme-code-foreground, var(--jp-content-font-color1, white)));\n",
       "    --sklearn-color-background: var(--sg-background-color, var(--theme-background, var(--jp-layout-color0, #111)));\n",
       "    --sklearn-color-border-box: var(--sg-text-color, var(--theme-code-foreground, var(--jp-content-font-color1, white)));\n",
       "    --sklearn-color-icon: #878787;\n",
       "  }\n",
       "}\n",
       "\n",
       "#sk-container-id-1 {\n",
       "  color: var(--sklearn-color-text);\n",
       "}\n",
       "\n",
       "#sk-container-id-1 pre {\n",
       "  padding: 0;\n",
       "}\n",
       "\n",
       "#sk-container-id-1 input.sk-hidden--visually {\n",
       "  border: 0;\n",
       "  clip: rect(1px 1px 1px 1px);\n",
       "  clip: rect(1px, 1px, 1px, 1px);\n",
       "  height: 1px;\n",
       "  margin: -1px;\n",
       "  overflow: hidden;\n",
       "  padding: 0;\n",
       "  position: absolute;\n",
       "  width: 1px;\n",
       "}\n",
       "\n",
       "#sk-container-id-1 div.sk-dashed-wrapped {\n",
       "  border: 1px dashed var(--sklearn-color-line);\n",
       "  margin: 0 0.4em 0.5em 0.4em;\n",
       "  box-sizing: border-box;\n",
       "  padding-bottom: 0.4em;\n",
       "  background-color: var(--sklearn-color-background);\n",
       "}\n",
       "\n",
       "#sk-container-id-1 div.sk-container {\n",
       "  /* jupyter's `normalize.less` sets `[hidden] { display: none; }`\n",
       "     but bootstrap.min.css set `[hidden] { display: none !important; }`\n",
       "     so we also need the `!important` here to be able to override the\n",
       "     default hidden behavior on the sphinx rendered scikit-learn.org.\n",
       "     See: https://github.com/scikit-learn/scikit-learn/issues/21755 */\n",
       "  display: inline-block !important;\n",
       "  position: relative;\n",
       "}\n",
       "\n",
       "#sk-container-id-1 div.sk-text-repr-fallback {\n",
       "  display: none;\n",
       "}\n",
       "\n",
       "div.sk-parallel-item,\n",
       "div.sk-serial,\n",
       "div.sk-item {\n",
       "  /* draw centered vertical line to link estimators */\n",
       "  background-image: linear-gradient(var(--sklearn-color-text-on-default-background), var(--sklearn-color-text-on-default-background));\n",
       "  background-size: 2px 100%;\n",
       "  background-repeat: no-repeat;\n",
       "  background-position: center center;\n",
       "}\n",
       "\n",
       "/* Parallel-specific style estimator block */\n",
       "\n",
       "#sk-container-id-1 div.sk-parallel-item::after {\n",
       "  content: \"\";\n",
       "  width: 100%;\n",
       "  border-bottom: 2px solid var(--sklearn-color-text-on-default-background);\n",
       "  flex-grow: 1;\n",
       "}\n",
       "\n",
       "#sk-container-id-1 div.sk-parallel {\n",
       "  display: flex;\n",
       "  align-items: stretch;\n",
       "  justify-content: center;\n",
       "  background-color: var(--sklearn-color-background);\n",
       "  position: relative;\n",
       "}\n",
       "\n",
       "#sk-container-id-1 div.sk-parallel-item {\n",
       "  display: flex;\n",
       "  flex-direction: column;\n",
       "}\n",
       "\n",
       "#sk-container-id-1 div.sk-parallel-item:first-child::after {\n",
       "  align-self: flex-end;\n",
       "  width: 50%;\n",
       "}\n",
       "\n",
       "#sk-container-id-1 div.sk-parallel-item:last-child::after {\n",
       "  align-self: flex-start;\n",
       "  width: 50%;\n",
       "}\n",
       "\n",
       "#sk-container-id-1 div.sk-parallel-item:only-child::after {\n",
       "  width: 0;\n",
       "}\n",
       "\n",
       "/* Serial-specific style estimator block */\n",
       "\n",
       "#sk-container-id-1 div.sk-serial {\n",
       "  display: flex;\n",
       "  flex-direction: column;\n",
       "  align-items: center;\n",
       "  background-color: var(--sklearn-color-background);\n",
       "  padding-right: 1em;\n",
       "  padding-left: 1em;\n",
       "}\n",
       "\n",
       "\n",
       "/* Toggleable style: style used for estimator/Pipeline/ColumnTransformer box that is\n",
       "clickable and can be expanded/collapsed.\n",
       "- Pipeline and ColumnTransformer use this feature and define the default style\n",
       "- Estimators will overwrite some part of the style using the `sk-estimator` class\n",
       "*/\n",
       "\n",
       "/* Pipeline and ColumnTransformer style (default) */\n",
       "\n",
       "#sk-container-id-1 div.sk-toggleable {\n",
       "  /* Default theme specific background. It is overwritten whether we have a\n",
       "  specific estimator or a Pipeline/ColumnTransformer */\n",
       "  background-color: var(--sklearn-color-background);\n",
       "}\n",
       "\n",
       "/* Toggleable label */\n",
       "#sk-container-id-1 label.sk-toggleable__label {\n",
       "  cursor: pointer;\n",
       "  display: flex;\n",
       "  width: 100%;\n",
       "  margin-bottom: 0;\n",
       "  padding: 0.5em;\n",
       "  box-sizing: border-box;\n",
       "  text-align: center;\n",
       "  align-items: start;\n",
       "  justify-content: space-between;\n",
       "  gap: 0.5em;\n",
       "}\n",
       "\n",
       "#sk-container-id-1 label.sk-toggleable__label .caption {\n",
       "  font-size: 0.6rem;\n",
       "  font-weight: lighter;\n",
       "  color: var(--sklearn-color-text-muted);\n",
       "}\n",
       "\n",
       "#sk-container-id-1 label.sk-toggleable__label-arrow:before {\n",
       "  /* Arrow on the left of the label */\n",
       "  content: \"▸\";\n",
       "  float: left;\n",
       "  margin-right: 0.25em;\n",
       "  color: var(--sklearn-color-icon);\n",
       "}\n",
       "\n",
       "#sk-container-id-1 label.sk-toggleable__label-arrow:hover:before {\n",
       "  color: var(--sklearn-color-text);\n",
       "}\n",
       "\n",
       "/* Toggleable content - dropdown */\n",
       "\n",
       "#sk-container-id-1 div.sk-toggleable__content {\n",
       "  max-height: 0;\n",
       "  max-width: 0;\n",
       "  overflow: hidden;\n",
       "  text-align: left;\n",
       "  /* unfitted */\n",
       "  background-color: var(--sklearn-color-unfitted-level-0);\n",
       "}\n",
       "\n",
       "#sk-container-id-1 div.sk-toggleable__content.fitted {\n",
       "  /* fitted */\n",
       "  background-color: var(--sklearn-color-fitted-level-0);\n",
       "}\n",
       "\n",
       "#sk-container-id-1 div.sk-toggleable__content pre {\n",
       "  margin: 0.2em;\n",
       "  border-radius: 0.25em;\n",
       "  color: var(--sklearn-color-text);\n",
       "  /* unfitted */\n",
       "  background-color: var(--sklearn-color-unfitted-level-0);\n",
       "}\n",
       "\n",
       "#sk-container-id-1 div.sk-toggleable__content.fitted pre {\n",
       "  /* unfitted */\n",
       "  background-color: var(--sklearn-color-fitted-level-0);\n",
       "}\n",
       "\n",
       "#sk-container-id-1 input.sk-toggleable__control:checked~div.sk-toggleable__content {\n",
       "  /* Expand drop-down */\n",
       "  max-height: 200px;\n",
       "  max-width: 100%;\n",
       "  overflow: auto;\n",
       "}\n",
       "\n",
       "#sk-container-id-1 input.sk-toggleable__control:checked~label.sk-toggleable__label-arrow:before {\n",
       "  content: \"▾\";\n",
       "}\n",
       "\n",
       "/* Pipeline/ColumnTransformer-specific style */\n",
       "\n",
       "#sk-container-id-1 div.sk-label input.sk-toggleable__control:checked~label.sk-toggleable__label {\n",
       "  color: var(--sklearn-color-text);\n",
       "  background-color: var(--sklearn-color-unfitted-level-2);\n",
       "}\n",
       "\n",
       "#sk-container-id-1 div.sk-label.fitted input.sk-toggleable__control:checked~label.sk-toggleable__label {\n",
       "  background-color: var(--sklearn-color-fitted-level-2);\n",
       "}\n",
       "\n",
       "/* Estimator-specific style */\n",
       "\n",
       "/* Colorize estimator box */\n",
       "#sk-container-id-1 div.sk-estimator input.sk-toggleable__control:checked~label.sk-toggleable__label {\n",
       "  /* unfitted */\n",
       "  background-color: var(--sklearn-color-unfitted-level-2);\n",
       "}\n",
       "\n",
       "#sk-container-id-1 div.sk-estimator.fitted input.sk-toggleable__control:checked~label.sk-toggleable__label {\n",
       "  /* fitted */\n",
       "  background-color: var(--sklearn-color-fitted-level-2);\n",
       "}\n",
       "\n",
       "#sk-container-id-1 div.sk-label label.sk-toggleable__label,\n",
       "#sk-container-id-1 div.sk-label label {\n",
       "  /* The background is the default theme color */\n",
       "  color: var(--sklearn-color-text-on-default-background);\n",
       "}\n",
       "\n",
       "/* On hover, darken the color of the background */\n",
       "#sk-container-id-1 div.sk-label:hover label.sk-toggleable__label {\n",
       "  color: var(--sklearn-color-text);\n",
       "  background-color: var(--sklearn-color-unfitted-level-2);\n",
       "}\n",
       "\n",
       "/* Label box, darken color on hover, fitted */\n",
       "#sk-container-id-1 div.sk-label.fitted:hover label.sk-toggleable__label.fitted {\n",
       "  color: var(--sklearn-color-text);\n",
       "  background-color: var(--sklearn-color-fitted-level-2);\n",
       "}\n",
       "\n",
       "/* Estimator label */\n",
       "\n",
       "#sk-container-id-1 div.sk-label label {\n",
       "  font-family: monospace;\n",
       "  font-weight: bold;\n",
       "  display: inline-block;\n",
       "  line-height: 1.2em;\n",
       "}\n",
       "\n",
       "#sk-container-id-1 div.sk-label-container {\n",
       "  text-align: center;\n",
       "}\n",
       "\n",
       "/* Estimator-specific */\n",
       "#sk-container-id-1 div.sk-estimator {\n",
       "  font-family: monospace;\n",
       "  border: 1px dotted var(--sklearn-color-border-box);\n",
       "  border-radius: 0.25em;\n",
       "  box-sizing: border-box;\n",
       "  margin-bottom: 0.5em;\n",
       "  /* unfitted */\n",
       "  background-color: var(--sklearn-color-unfitted-level-0);\n",
       "}\n",
       "\n",
       "#sk-container-id-1 div.sk-estimator.fitted {\n",
       "  /* fitted */\n",
       "  background-color: var(--sklearn-color-fitted-level-0);\n",
       "}\n",
       "\n",
       "/* on hover */\n",
       "#sk-container-id-1 div.sk-estimator:hover {\n",
       "  /* unfitted */\n",
       "  background-color: var(--sklearn-color-unfitted-level-2);\n",
       "}\n",
       "\n",
       "#sk-container-id-1 div.sk-estimator.fitted:hover {\n",
       "  /* fitted */\n",
       "  background-color: var(--sklearn-color-fitted-level-2);\n",
       "}\n",
       "\n",
       "/* Specification for estimator info (e.g. \"i\" and \"?\") */\n",
       "\n",
       "/* Common style for \"i\" and \"?\" */\n",
       "\n",
       ".sk-estimator-doc-link,\n",
       "a:link.sk-estimator-doc-link,\n",
       "a:visited.sk-estimator-doc-link {\n",
       "  float: right;\n",
       "  font-size: smaller;\n",
       "  line-height: 1em;\n",
       "  font-family: monospace;\n",
       "  background-color: var(--sklearn-color-background);\n",
       "  border-radius: 1em;\n",
       "  height: 1em;\n",
       "  width: 1em;\n",
       "  text-decoration: none !important;\n",
       "  margin-left: 0.5em;\n",
       "  text-align: center;\n",
       "  /* unfitted */\n",
       "  border: var(--sklearn-color-unfitted-level-1) 1pt solid;\n",
       "  color: var(--sklearn-color-unfitted-level-1);\n",
       "}\n",
       "\n",
       ".sk-estimator-doc-link.fitted,\n",
       "a:link.sk-estimator-doc-link.fitted,\n",
       "a:visited.sk-estimator-doc-link.fitted {\n",
       "  /* fitted */\n",
       "  border: var(--sklearn-color-fitted-level-1) 1pt solid;\n",
       "  color: var(--sklearn-color-fitted-level-1);\n",
       "}\n",
       "\n",
       "/* On hover */\n",
       "div.sk-estimator:hover .sk-estimator-doc-link:hover,\n",
       ".sk-estimator-doc-link:hover,\n",
       "div.sk-label-container:hover .sk-estimator-doc-link:hover,\n",
       ".sk-estimator-doc-link:hover {\n",
       "  /* unfitted */\n",
       "  background-color: var(--sklearn-color-unfitted-level-3);\n",
       "  color: var(--sklearn-color-background);\n",
       "  text-decoration: none;\n",
       "}\n",
       "\n",
       "div.sk-estimator.fitted:hover .sk-estimator-doc-link.fitted:hover,\n",
       ".sk-estimator-doc-link.fitted:hover,\n",
       "div.sk-label-container:hover .sk-estimator-doc-link.fitted:hover,\n",
       ".sk-estimator-doc-link.fitted:hover {\n",
       "  /* fitted */\n",
       "  background-color: var(--sklearn-color-fitted-level-3);\n",
       "  color: var(--sklearn-color-background);\n",
       "  text-decoration: none;\n",
       "}\n",
       "\n",
       "/* Span, style for the box shown on hovering the info icon */\n",
       ".sk-estimator-doc-link span {\n",
       "  display: none;\n",
       "  z-index: 9999;\n",
       "  position: relative;\n",
       "  font-weight: normal;\n",
       "  right: .2ex;\n",
       "  padding: .5ex;\n",
       "  margin: .5ex;\n",
       "  width: min-content;\n",
       "  min-width: 20ex;\n",
       "  max-width: 50ex;\n",
       "  color: var(--sklearn-color-text);\n",
       "  box-shadow: 2pt 2pt 4pt #999;\n",
       "  /* unfitted */\n",
       "  background: var(--sklearn-color-unfitted-level-0);\n",
       "  border: .5pt solid var(--sklearn-color-unfitted-level-3);\n",
       "}\n",
       "\n",
       ".sk-estimator-doc-link.fitted span {\n",
       "  /* fitted */\n",
       "  background: var(--sklearn-color-fitted-level-0);\n",
       "  border: var(--sklearn-color-fitted-level-3);\n",
       "}\n",
       "\n",
       ".sk-estimator-doc-link:hover span {\n",
       "  display: block;\n",
       "}\n",
       "\n",
       "/* \"?\"-specific style due to the `<a>` HTML tag */\n",
       "\n",
       "#sk-container-id-1 a.estimator_doc_link {\n",
       "  float: right;\n",
       "  font-size: 1rem;\n",
       "  line-height: 1em;\n",
       "  font-family: monospace;\n",
       "  background-color: var(--sklearn-color-background);\n",
       "  border-radius: 1rem;\n",
       "  height: 1rem;\n",
       "  width: 1rem;\n",
       "  text-decoration: none;\n",
       "  /* unfitted */\n",
       "  color: var(--sklearn-color-unfitted-level-1);\n",
       "  border: var(--sklearn-color-unfitted-level-1) 1pt solid;\n",
       "}\n",
       "\n",
       "#sk-container-id-1 a.estimator_doc_link.fitted {\n",
       "  /* fitted */\n",
       "  border: var(--sklearn-color-fitted-level-1) 1pt solid;\n",
       "  color: var(--sklearn-color-fitted-level-1);\n",
       "}\n",
       "\n",
       "/* On hover */\n",
       "#sk-container-id-1 a.estimator_doc_link:hover {\n",
       "  /* unfitted */\n",
       "  background-color: var(--sklearn-color-unfitted-level-3);\n",
       "  color: var(--sklearn-color-background);\n",
       "  text-decoration: none;\n",
       "}\n",
       "\n",
       "#sk-container-id-1 a.estimator_doc_link.fitted:hover {\n",
       "  /* fitted */\n",
       "  background-color: var(--sklearn-color-fitted-level-3);\n",
       "}\n",
       "</style><div id=\"sk-container-id-1\" class=\"sk-top-container\"><div class=\"sk-text-repr-fallback\"><pre>LinearRegression()</pre><b>In a Jupyter environment, please rerun this cell to show the HTML representation or trust the notebook. <br />On GitHub, the HTML representation is unable to render, please try loading this page with nbviewer.org.</b></div><div class=\"sk-container\" hidden><div class=\"sk-item\"><div class=\"sk-estimator fitted sk-toggleable\"><input class=\"sk-toggleable__control sk-hidden--visually\" id=\"sk-estimator-id-1\" type=\"checkbox\" checked><label for=\"sk-estimator-id-1\" class=\"sk-toggleable__label fitted sk-toggleable__label-arrow\"><div><div>LinearRegression</div></div><div><a class=\"sk-estimator-doc-link fitted\" rel=\"noreferrer\" target=\"_blank\" href=\"https://scikit-learn.org/1.6/modules/generated/sklearn.linear_model.LinearRegression.html\">?<span>Documentation for LinearRegression</span></a><span class=\"sk-estimator-doc-link fitted\">i<span>Fitted</span></span></div></label><div class=\"sk-toggleable__content fitted\"><pre>LinearRegression()</pre></div> </div></div></div></div>"
      ],
      "text/plain": [
       "LinearRegression()"
      ]
     },
     "execution_count": 40,
     "metadata": {},
     "output_type": "execute_result"
    }
   ],
   "source": [
    "model.fit(X_train, y_train)"
   ]
  },
  {
   "cell_type": "markdown",
   "id": "7d5c9edf-d7f7-4962-a4d5-70d098ff6e94",
   "metadata": {},
   "source": [
    "### Predição do preço"
   ]
  },
  {
   "cell_type": "code",
   "execution_count": 41,
   "id": "8e59e1d6-fa1a-468f-b3be-143d35e7412c",
   "metadata": {},
   "outputs": [],
   "source": [
    "y_pred = model.predict(X_test)"
   ]
  },
  {
   "cell_type": "code",
   "execution_count": 42,
   "id": "4227ec31-881c-48a2-ab8b-4bc3da18cda0",
   "metadata": {},
   "outputs": [
    {
     "name": "stdout",
     "output_type": "stream",
     "text": [
      "[259.8461776  213.00788615 250.82479422 228.35676561  76.21424404]\n"
     ]
    }
   ],
   "source": [
    "print(y_pred[:5])"
   ]
  },
  {
   "cell_type": "markdown",
   "id": "14729eaf-144b-425c-99d3-993b5414d6bb",
   "metadata": {},
   "source": [
    "### Valores reais (teste)"
   ]
  },
  {
   "cell_type": "code",
   "execution_count": 43,
   "id": "ac7d353c-4794-495c-b7c3-0f366c8344bc",
   "metadata": {},
   "outputs": [
    {
     "name": "stdout",
     "output_type": "stream",
     "text": [
      "11912    650\n",
      "2206     130\n",
      "17212    275\n",
      "26086    225\n",
      "19046     46\n",
      "Name: price, dtype: int64\n"
     ]
    }
   ],
   "source": [
    "print(y_test[:5])"
   ]
  },
  {
   "cell_type": "markdown",
   "id": "1a24acc8-dd9d-4be2-9e7e-6d1e67c74c68",
   "metadata": {},
   "source": [
    "### **Conclusão parcial**\n",
    "\n",
    "Os valores que o modelo está prevendo estão muito distantes dos valores reais."
   ]
  },
  {
   "cell_type": "markdown",
   "id": "f3a6579f-6727-42ea-8144-180d3c3dc17d",
   "metadata": {
    "editable": true,
    "slideshow": {
     "slide_type": ""
    },
    "tags": []
   },
   "source": [
    "## Análise de performance"
   ]
  },
  {
   "cell_type": "markdown",
   "id": "18712dc9-8f42-45fa-8754-b7e0a2ebe79f",
   "metadata": {},
   "source": [
    "### Cálculo do Erro Médio Absoluto (MAE)"
   ]
  },
  {
   "cell_type": "code",
   "execution_count": 44,
   "id": "1ae3736f-116b-4671-8a23-61455de99c4a",
   "metadata": {},
   "outputs": [],
   "source": [
    "mean_error = mean_absolute_error(y_test, y_pred)"
   ]
  },
  {
   "cell_type": "code",
   "execution_count": 45,
   "id": "27d8e917-f122-46af-80dc-e72991838f65",
   "metadata": {},
   "outputs": [
    {
     "name": "stdout",
     "output_type": "stream",
     "text": [
      "MAE:$70.21 doláres\n"
     ]
    }
   ],
   "source": [
    "print(f\"MAE:${mean_error:.2f} doláres\")"
   ]
  },
  {
   "cell_type": "markdown",
   "id": "5d9462c4-bc3b-4126-9d81-7e01add5d688",
   "metadata": {},
   "source": [
    "### Cálculo do R2 (verificação de quantas vezes o modelo acerta)"
   ]
  },
  {
   "cell_type": "code",
   "execution_count": 46,
   "id": "296a7589-ec21-4598-b4cb-7432a5630752",
   "metadata": {},
   "outputs": [],
   "source": [
    "r2 = r2_score(y_test, y_pred)"
   ]
  },
  {
   "cell_type": "code",
   "execution_count": 47,
   "id": "c21b551d-eac1-4fa9-8f39-7262900eaa10",
   "metadata": {},
   "outputs": [
    {
     "name": "stdout",
     "output_type": "stream",
     "text": [
      "R²: 0.12\n"
     ]
    }
   ],
   "source": [
    "print(f\"R²: {r2:.2f}\") "
   ]
  },
  {
   "cell_type": "markdown",
   "id": "4d72619a-cbd0-4fa1-93ef-acb7b1f8d95b",
   "metadata": {},
   "source": [
    "#### O resultado indica que o modelo está acertando apenas 12% das predições."
   ]
  },
  {
   "cell_type": "markdown",
   "id": "31e79c57-bc96-47f9-bf4c-c711c4989447",
   "metadata": {},
   "source": [
    "### Avaliação com o modelo Random Forest"
   ]
  },
  {
   "cell_type": "code",
   "execution_count": 48,
   "id": "565096f1-598f-4020-a5d1-4a01a333fa4c",
   "metadata": {},
   "outputs": [
    {
     "name": "stderr",
     "output_type": "stream",
     "text": [
      "/home/rafael/Applications/anaconda3/envs/DATA_SCIENCE/lib/python3.12/site-packages/sklearn/ensemble/_forest.py:612: UserWarning: Some inputs do not have OOB scores. This probably means too few trees were used to compute any reliable OOB estimates.\n",
      "  warn(\n"
     ]
    },
    {
     "data": {
      "text/html": [
       "<style>#sk-container-id-2 {\n",
       "  /* Definition of color scheme common for light and dark mode */\n",
       "  --sklearn-color-text: #000;\n",
       "  --sklearn-color-text-muted: #666;\n",
       "  --sklearn-color-line: gray;\n",
       "  /* Definition of color scheme for unfitted estimators */\n",
       "  --sklearn-color-unfitted-level-0: #fff5e6;\n",
       "  --sklearn-color-unfitted-level-1: #f6e4d2;\n",
       "  --sklearn-color-unfitted-level-2: #ffe0b3;\n",
       "  --sklearn-color-unfitted-level-3: chocolate;\n",
       "  /* Definition of color scheme for fitted estimators */\n",
       "  --sklearn-color-fitted-level-0: #f0f8ff;\n",
       "  --sklearn-color-fitted-level-1: #d4ebff;\n",
       "  --sklearn-color-fitted-level-2: #b3dbfd;\n",
       "  --sklearn-color-fitted-level-3: cornflowerblue;\n",
       "\n",
       "  /* Specific color for light theme */\n",
       "  --sklearn-color-text-on-default-background: var(--sg-text-color, var(--theme-code-foreground, var(--jp-content-font-color1, black)));\n",
       "  --sklearn-color-background: var(--sg-background-color, var(--theme-background, var(--jp-layout-color0, white)));\n",
       "  --sklearn-color-border-box: var(--sg-text-color, var(--theme-code-foreground, var(--jp-content-font-color1, black)));\n",
       "  --sklearn-color-icon: #696969;\n",
       "\n",
       "  @media (prefers-color-scheme: dark) {\n",
       "    /* Redefinition of color scheme for dark theme */\n",
       "    --sklearn-color-text-on-default-background: var(--sg-text-color, var(--theme-code-foreground, var(--jp-content-font-color1, white)));\n",
       "    --sklearn-color-background: var(--sg-background-color, var(--theme-background, var(--jp-layout-color0, #111)));\n",
       "    --sklearn-color-border-box: var(--sg-text-color, var(--theme-code-foreground, var(--jp-content-font-color1, white)));\n",
       "    --sklearn-color-icon: #878787;\n",
       "  }\n",
       "}\n",
       "\n",
       "#sk-container-id-2 {\n",
       "  color: var(--sklearn-color-text);\n",
       "}\n",
       "\n",
       "#sk-container-id-2 pre {\n",
       "  padding: 0;\n",
       "}\n",
       "\n",
       "#sk-container-id-2 input.sk-hidden--visually {\n",
       "  border: 0;\n",
       "  clip: rect(1px 1px 1px 1px);\n",
       "  clip: rect(1px, 1px, 1px, 1px);\n",
       "  height: 1px;\n",
       "  margin: -1px;\n",
       "  overflow: hidden;\n",
       "  padding: 0;\n",
       "  position: absolute;\n",
       "  width: 1px;\n",
       "}\n",
       "\n",
       "#sk-container-id-2 div.sk-dashed-wrapped {\n",
       "  border: 1px dashed var(--sklearn-color-line);\n",
       "  margin: 0 0.4em 0.5em 0.4em;\n",
       "  box-sizing: border-box;\n",
       "  padding-bottom: 0.4em;\n",
       "  background-color: var(--sklearn-color-background);\n",
       "}\n",
       "\n",
       "#sk-container-id-2 div.sk-container {\n",
       "  /* jupyter's `normalize.less` sets `[hidden] { display: none; }`\n",
       "     but bootstrap.min.css set `[hidden] { display: none !important; }`\n",
       "     so we also need the `!important` here to be able to override the\n",
       "     default hidden behavior on the sphinx rendered scikit-learn.org.\n",
       "     See: https://github.com/scikit-learn/scikit-learn/issues/21755 */\n",
       "  display: inline-block !important;\n",
       "  position: relative;\n",
       "}\n",
       "\n",
       "#sk-container-id-2 div.sk-text-repr-fallback {\n",
       "  display: none;\n",
       "}\n",
       "\n",
       "div.sk-parallel-item,\n",
       "div.sk-serial,\n",
       "div.sk-item {\n",
       "  /* draw centered vertical line to link estimators */\n",
       "  background-image: linear-gradient(var(--sklearn-color-text-on-default-background), var(--sklearn-color-text-on-default-background));\n",
       "  background-size: 2px 100%;\n",
       "  background-repeat: no-repeat;\n",
       "  background-position: center center;\n",
       "}\n",
       "\n",
       "/* Parallel-specific style estimator block */\n",
       "\n",
       "#sk-container-id-2 div.sk-parallel-item::after {\n",
       "  content: \"\";\n",
       "  width: 100%;\n",
       "  border-bottom: 2px solid var(--sklearn-color-text-on-default-background);\n",
       "  flex-grow: 1;\n",
       "}\n",
       "\n",
       "#sk-container-id-2 div.sk-parallel {\n",
       "  display: flex;\n",
       "  align-items: stretch;\n",
       "  justify-content: center;\n",
       "  background-color: var(--sklearn-color-background);\n",
       "  position: relative;\n",
       "}\n",
       "\n",
       "#sk-container-id-2 div.sk-parallel-item {\n",
       "  display: flex;\n",
       "  flex-direction: column;\n",
       "}\n",
       "\n",
       "#sk-container-id-2 div.sk-parallel-item:first-child::after {\n",
       "  align-self: flex-end;\n",
       "  width: 50%;\n",
       "}\n",
       "\n",
       "#sk-container-id-2 div.sk-parallel-item:last-child::after {\n",
       "  align-self: flex-start;\n",
       "  width: 50%;\n",
       "}\n",
       "\n",
       "#sk-container-id-2 div.sk-parallel-item:only-child::after {\n",
       "  width: 0;\n",
       "}\n",
       "\n",
       "/* Serial-specific style estimator block */\n",
       "\n",
       "#sk-container-id-2 div.sk-serial {\n",
       "  display: flex;\n",
       "  flex-direction: column;\n",
       "  align-items: center;\n",
       "  background-color: var(--sklearn-color-background);\n",
       "  padding-right: 1em;\n",
       "  padding-left: 1em;\n",
       "}\n",
       "\n",
       "\n",
       "/* Toggleable style: style used for estimator/Pipeline/ColumnTransformer box that is\n",
       "clickable and can be expanded/collapsed.\n",
       "- Pipeline and ColumnTransformer use this feature and define the default style\n",
       "- Estimators will overwrite some part of the style using the `sk-estimator` class\n",
       "*/\n",
       "\n",
       "/* Pipeline and ColumnTransformer style (default) */\n",
       "\n",
       "#sk-container-id-2 div.sk-toggleable {\n",
       "  /* Default theme specific background. It is overwritten whether we have a\n",
       "  specific estimator or a Pipeline/ColumnTransformer */\n",
       "  background-color: var(--sklearn-color-background);\n",
       "}\n",
       "\n",
       "/* Toggleable label */\n",
       "#sk-container-id-2 label.sk-toggleable__label {\n",
       "  cursor: pointer;\n",
       "  display: flex;\n",
       "  width: 100%;\n",
       "  margin-bottom: 0;\n",
       "  padding: 0.5em;\n",
       "  box-sizing: border-box;\n",
       "  text-align: center;\n",
       "  align-items: start;\n",
       "  justify-content: space-between;\n",
       "  gap: 0.5em;\n",
       "}\n",
       "\n",
       "#sk-container-id-2 label.sk-toggleable__label .caption {\n",
       "  font-size: 0.6rem;\n",
       "  font-weight: lighter;\n",
       "  color: var(--sklearn-color-text-muted);\n",
       "}\n",
       "\n",
       "#sk-container-id-2 label.sk-toggleable__label-arrow:before {\n",
       "  /* Arrow on the left of the label */\n",
       "  content: \"▸\";\n",
       "  float: left;\n",
       "  margin-right: 0.25em;\n",
       "  color: var(--sklearn-color-icon);\n",
       "}\n",
       "\n",
       "#sk-container-id-2 label.sk-toggleable__label-arrow:hover:before {\n",
       "  color: var(--sklearn-color-text);\n",
       "}\n",
       "\n",
       "/* Toggleable content - dropdown */\n",
       "\n",
       "#sk-container-id-2 div.sk-toggleable__content {\n",
       "  max-height: 0;\n",
       "  max-width: 0;\n",
       "  overflow: hidden;\n",
       "  text-align: left;\n",
       "  /* unfitted */\n",
       "  background-color: var(--sklearn-color-unfitted-level-0);\n",
       "}\n",
       "\n",
       "#sk-container-id-2 div.sk-toggleable__content.fitted {\n",
       "  /* fitted */\n",
       "  background-color: var(--sklearn-color-fitted-level-0);\n",
       "}\n",
       "\n",
       "#sk-container-id-2 div.sk-toggleable__content pre {\n",
       "  margin: 0.2em;\n",
       "  border-radius: 0.25em;\n",
       "  color: var(--sklearn-color-text);\n",
       "  /* unfitted */\n",
       "  background-color: var(--sklearn-color-unfitted-level-0);\n",
       "}\n",
       "\n",
       "#sk-container-id-2 div.sk-toggleable__content.fitted pre {\n",
       "  /* unfitted */\n",
       "  background-color: var(--sklearn-color-fitted-level-0);\n",
       "}\n",
       "\n",
       "#sk-container-id-2 input.sk-toggleable__control:checked~div.sk-toggleable__content {\n",
       "  /* Expand drop-down */\n",
       "  max-height: 200px;\n",
       "  max-width: 100%;\n",
       "  overflow: auto;\n",
       "}\n",
       "\n",
       "#sk-container-id-2 input.sk-toggleable__control:checked~label.sk-toggleable__label-arrow:before {\n",
       "  content: \"▾\";\n",
       "}\n",
       "\n",
       "/* Pipeline/ColumnTransformer-specific style */\n",
       "\n",
       "#sk-container-id-2 div.sk-label input.sk-toggleable__control:checked~label.sk-toggleable__label {\n",
       "  color: var(--sklearn-color-text);\n",
       "  background-color: var(--sklearn-color-unfitted-level-2);\n",
       "}\n",
       "\n",
       "#sk-container-id-2 div.sk-label.fitted input.sk-toggleable__control:checked~label.sk-toggleable__label {\n",
       "  background-color: var(--sklearn-color-fitted-level-2);\n",
       "}\n",
       "\n",
       "/* Estimator-specific style */\n",
       "\n",
       "/* Colorize estimator box */\n",
       "#sk-container-id-2 div.sk-estimator input.sk-toggleable__control:checked~label.sk-toggleable__label {\n",
       "  /* unfitted */\n",
       "  background-color: var(--sklearn-color-unfitted-level-2);\n",
       "}\n",
       "\n",
       "#sk-container-id-2 div.sk-estimator.fitted input.sk-toggleable__control:checked~label.sk-toggleable__label {\n",
       "  /* fitted */\n",
       "  background-color: var(--sklearn-color-fitted-level-2);\n",
       "}\n",
       "\n",
       "#sk-container-id-2 div.sk-label label.sk-toggleable__label,\n",
       "#sk-container-id-2 div.sk-label label {\n",
       "  /* The background is the default theme color */\n",
       "  color: var(--sklearn-color-text-on-default-background);\n",
       "}\n",
       "\n",
       "/* On hover, darken the color of the background */\n",
       "#sk-container-id-2 div.sk-label:hover label.sk-toggleable__label {\n",
       "  color: var(--sklearn-color-text);\n",
       "  background-color: var(--sklearn-color-unfitted-level-2);\n",
       "}\n",
       "\n",
       "/* Label box, darken color on hover, fitted */\n",
       "#sk-container-id-2 div.sk-label.fitted:hover label.sk-toggleable__label.fitted {\n",
       "  color: var(--sklearn-color-text);\n",
       "  background-color: var(--sklearn-color-fitted-level-2);\n",
       "}\n",
       "\n",
       "/* Estimator label */\n",
       "\n",
       "#sk-container-id-2 div.sk-label label {\n",
       "  font-family: monospace;\n",
       "  font-weight: bold;\n",
       "  display: inline-block;\n",
       "  line-height: 1.2em;\n",
       "}\n",
       "\n",
       "#sk-container-id-2 div.sk-label-container {\n",
       "  text-align: center;\n",
       "}\n",
       "\n",
       "/* Estimator-specific */\n",
       "#sk-container-id-2 div.sk-estimator {\n",
       "  font-family: monospace;\n",
       "  border: 1px dotted var(--sklearn-color-border-box);\n",
       "  border-radius: 0.25em;\n",
       "  box-sizing: border-box;\n",
       "  margin-bottom: 0.5em;\n",
       "  /* unfitted */\n",
       "  background-color: var(--sklearn-color-unfitted-level-0);\n",
       "}\n",
       "\n",
       "#sk-container-id-2 div.sk-estimator.fitted {\n",
       "  /* fitted */\n",
       "  background-color: var(--sklearn-color-fitted-level-0);\n",
       "}\n",
       "\n",
       "/* on hover */\n",
       "#sk-container-id-2 div.sk-estimator:hover {\n",
       "  /* unfitted */\n",
       "  background-color: var(--sklearn-color-unfitted-level-2);\n",
       "}\n",
       "\n",
       "#sk-container-id-2 div.sk-estimator.fitted:hover {\n",
       "  /* fitted */\n",
       "  background-color: var(--sklearn-color-fitted-level-2);\n",
       "}\n",
       "\n",
       "/* Specification for estimator info (e.g. \"i\" and \"?\") */\n",
       "\n",
       "/* Common style for \"i\" and \"?\" */\n",
       "\n",
       ".sk-estimator-doc-link,\n",
       "a:link.sk-estimator-doc-link,\n",
       "a:visited.sk-estimator-doc-link {\n",
       "  float: right;\n",
       "  font-size: smaller;\n",
       "  line-height: 1em;\n",
       "  font-family: monospace;\n",
       "  background-color: var(--sklearn-color-background);\n",
       "  border-radius: 1em;\n",
       "  height: 1em;\n",
       "  width: 1em;\n",
       "  text-decoration: none !important;\n",
       "  margin-left: 0.5em;\n",
       "  text-align: center;\n",
       "  /* unfitted */\n",
       "  border: var(--sklearn-color-unfitted-level-1) 1pt solid;\n",
       "  color: var(--sklearn-color-unfitted-level-1);\n",
       "}\n",
       "\n",
       ".sk-estimator-doc-link.fitted,\n",
       "a:link.sk-estimator-doc-link.fitted,\n",
       "a:visited.sk-estimator-doc-link.fitted {\n",
       "  /* fitted */\n",
       "  border: var(--sklearn-color-fitted-level-1) 1pt solid;\n",
       "  color: var(--sklearn-color-fitted-level-1);\n",
       "}\n",
       "\n",
       "/* On hover */\n",
       "div.sk-estimator:hover .sk-estimator-doc-link:hover,\n",
       ".sk-estimator-doc-link:hover,\n",
       "div.sk-label-container:hover .sk-estimator-doc-link:hover,\n",
       ".sk-estimator-doc-link:hover {\n",
       "  /* unfitted */\n",
       "  background-color: var(--sklearn-color-unfitted-level-3);\n",
       "  color: var(--sklearn-color-background);\n",
       "  text-decoration: none;\n",
       "}\n",
       "\n",
       "div.sk-estimator.fitted:hover .sk-estimator-doc-link.fitted:hover,\n",
       ".sk-estimator-doc-link.fitted:hover,\n",
       "div.sk-label-container:hover .sk-estimator-doc-link.fitted:hover,\n",
       ".sk-estimator-doc-link.fitted:hover {\n",
       "  /* fitted */\n",
       "  background-color: var(--sklearn-color-fitted-level-3);\n",
       "  color: var(--sklearn-color-background);\n",
       "  text-decoration: none;\n",
       "}\n",
       "\n",
       "/* Span, style for the box shown on hovering the info icon */\n",
       ".sk-estimator-doc-link span {\n",
       "  display: none;\n",
       "  z-index: 9999;\n",
       "  position: relative;\n",
       "  font-weight: normal;\n",
       "  right: .2ex;\n",
       "  padding: .5ex;\n",
       "  margin: .5ex;\n",
       "  width: min-content;\n",
       "  min-width: 20ex;\n",
       "  max-width: 50ex;\n",
       "  color: var(--sklearn-color-text);\n",
       "  box-shadow: 2pt 2pt 4pt #999;\n",
       "  /* unfitted */\n",
       "  background: var(--sklearn-color-unfitted-level-0);\n",
       "  border: .5pt solid var(--sklearn-color-unfitted-level-3);\n",
       "}\n",
       "\n",
       ".sk-estimator-doc-link.fitted span {\n",
       "  /* fitted */\n",
       "  background: var(--sklearn-color-fitted-level-0);\n",
       "  border: var(--sklearn-color-fitted-level-3);\n",
       "}\n",
       "\n",
       ".sk-estimator-doc-link:hover span {\n",
       "  display: block;\n",
       "}\n",
       "\n",
       "/* \"?\"-specific style due to the `<a>` HTML tag */\n",
       "\n",
       "#sk-container-id-2 a.estimator_doc_link {\n",
       "  float: right;\n",
       "  font-size: 1rem;\n",
       "  line-height: 1em;\n",
       "  font-family: monospace;\n",
       "  background-color: var(--sklearn-color-background);\n",
       "  border-radius: 1rem;\n",
       "  height: 1rem;\n",
       "  width: 1rem;\n",
       "  text-decoration: none;\n",
       "  /* unfitted */\n",
       "  color: var(--sklearn-color-unfitted-level-1);\n",
       "  border: var(--sklearn-color-unfitted-level-1) 1pt solid;\n",
       "}\n",
       "\n",
       "#sk-container-id-2 a.estimator_doc_link.fitted {\n",
       "  /* fitted */\n",
       "  border: var(--sklearn-color-fitted-level-1) 1pt solid;\n",
       "  color: var(--sklearn-color-fitted-level-1);\n",
       "}\n",
       "\n",
       "/* On hover */\n",
       "#sk-container-id-2 a.estimator_doc_link:hover {\n",
       "  /* unfitted */\n",
       "  background-color: var(--sklearn-color-unfitted-level-3);\n",
       "  color: var(--sklearn-color-background);\n",
       "  text-decoration: none;\n",
       "}\n",
       "\n",
       "#sk-container-id-2 a.estimator_doc_link.fitted:hover {\n",
       "  /* fitted */\n",
       "  background-color: var(--sklearn-color-fitted-level-3);\n",
       "}\n",
       "</style><div id=\"sk-container-id-2\" class=\"sk-top-container\"><div class=\"sk-text-repr-fallback\"><pre>RandomForestRegressor(n_estimators=10, oob_score=True, random_state=0)</pre><b>In a Jupyter environment, please rerun this cell to show the HTML representation or trust the notebook. <br />On GitHub, the HTML representation is unable to render, please try loading this page with nbviewer.org.</b></div><div class=\"sk-container\" hidden><div class=\"sk-item\"><div class=\"sk-estimator fitted sk-toggleable\"><input class=\"sk-toggleable__control sk-hidden--visually\" id=\"sk-estimator-id-2\" type=\"checkbox\" checked><label for=\"sk-estimator-id-2\" class=\"sk-toggleable__label fitted sk-toggleable__label-arrow\"><div><div>RandomForestRegressor</div></div><div><a class=\"sk-estimator-doc-link fitted\" rel=\"noreferrer\" target=\"_blank\" href=\"https://scikit-learn.org/1.6/modules/generated/sklearn.ensemble.RandomForestRegressor.html\">?<span>Documentation for RandomForestRegressor</span></a><span class=\"sk-estimator-doc-link fitted\">i<span>Fitted</span></span></div></label><div class=\"sk-toggleable__content fitted\"><pre>RandomForestRegressor(n_estimators=10, oob_score=True, random_state=0)</pre></div> </div></div></div></div>"
      ],
      "text/plain": [
       "RandomForestRegressor(n_estimators=10, oob_score=True, random_state=0)"
      ]
     },
     "execution_count": 48,
     "metadata": {},
     "output_type": "execute_result"
    }
   ],
   "source": [
    "rf_model = RandomForestRegressor(n_estimators=10, random_state=0, oob_score=True)\n",
    "rf_model.fit(X_train, y_train)"
   ]
  },
  {
   "cell_type": "code",
   "execution_count": 49,
   "id": "ddc4e9da-0baa-4cd3-892b-e7e12a1c6d0f",
   "metadata": {},
   "outputs": [],
   "source": [
    "rf_pred = rf_model.predict(X_test)"
   ]
  },
  {
   "cell_type": "code",
   "execution_count": 50,
   "id": "3de0723b-00e8-417c-bb59-cf8ff98c222a",
   "metadata": {},
   "outputs": [
    {
     "name": "stdout",
     "output_type": "stream",
     "text": [
      "[178.5 196.3 257.5 ...  75.5 185.3 128.9]\n"
     ]
    }
   ],
   "source": [
    "print(rf_pred)"
   ]
  },
  {
   "cell_type": "code",
   "execution_count": 51,
   "id": "4c86697c-6e05-494f-b892-e17e05acb3b1",
   "metadata": {},
   "outputs": [],
   "source": [
    "rf_mae = mean_absolute_error(y_test, rf_pred)"
   ]
  },
  {
   "cell_type": "code",
   "execution_count": 52,
   "id": "94c52555-943e-4831-b003-f42f317ab208",
   "metadata": {},
   "outputs": [
    {
     "name": "stdout",
     "output_type": "stream",
     "text": [
      "MAE: $77.29\n"
     ]
    }
   ],
   "source": [
    "print(f\"MAE: ${rf_mae:.2f}\")"
   ]
  },
  {
   "cell_type": "code",
   "execution_count": 53,
   "id": "92eb23fc-aa9a-4881-9f8b-933d42e186cc",
   "metadata": {},
   "outputs": [],
   "source": [
    "rf_r2 = r2_score(y_test, rf_pred)"
   ]
  },
  {
   "cell_type": "code",
   "execution_count": 54,
   "id": "351523f5-63c9-4943-8386-1c24d83d48af",
   "metadata": {},
   "outputs": [
    {
     "name": "stdout",
     "output_type": "stream",
     "text": [
      "R²: -0.2755\n"
     ]
    }
   ],
   "source": [
    "print(f\"R²: {rf_r2:.4f}\")"
   ]
  },
  {
   "cell_type": "markdown",
   "id": "b694f790-31e2-4c3b-b9d8-f86f1f3a627a",
   "metadata": {},
   "source": [
    "## **Conclusão**"
   ]
  },
  {
   "cell_type": "markdown",
   "id": "962ceb75-da20-465d-b3f2-39680bc11e4c",
   "metadata": {},
   "source": [
    "#### Os modelos 'LinearRegression' e 'RandomForestRegression' estão aquém dos resultados esperados. Ambos estão errando acima dos $70 dolares para cada predição. Portanto, requer uma análise mais detalhada das etapas anteriores, especialmente no que diz respeito à escolha de features, escalonamento da longitude e latitude e outliers no preço."
   ]
  }
 ],
 "metadata": {
  "kernelspec": {
   "display_name": "Python 3 (ipykernel)",
   "language": "python",
   "name": "python3"
  },
  "language_info": {
   "codemirror_mode": {
    "name": "ipython",
    "version": 3
   },
   "file_extension": ".py",
   "mimetype": "text/x-python",
   "name": "python",
   "nbconvert_exporter": "python",
   "pygments_lexer": "ipython3",
   "version": "3.12.8"
  }
 },
 "nbformat": 4,
 "nbformat_minor": 5
}
